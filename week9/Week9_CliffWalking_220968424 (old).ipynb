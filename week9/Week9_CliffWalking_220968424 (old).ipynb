{
 "cells": [
  {
   "cell_type": "markdown",
   "id": "c426e0fe",
   "metadata": {},
   "source": [
    "## Name : Adwaiy Singh\n",
    "## Reg. No. : 220968424\n",
    "## Sec. : A\n",
    "## Batch: 2\n",
    "## WEEK 9"
   ]
  },
  {
   "cell_type": "markdown",
   "id": "ecfd8ceb-9b1b-4ada-93ab-fb8002fb9693",
   "metadata": {},
   "source": [
    "# MDP & MONTE CARLO METHODS\n",
    "\n",
    "### Use the Cliff Walking Environment:\n",
    "#### https://www.gymlibrary.dev/environments/toy_text/cliff_walking/\n",
    "### Learn the optimal policy using 500 episodes :\n",
    "    1. Monte Carlo First Visit\n",
    "    2. Monte Carlo Every Visit\n",
    "#### Comment and compare  the methods' performance in terms of the number of steps needed to learn optimal policy and the number of episodes"
   ]
  },
  {
   "cell_type": "code",
   "execution_count": 1,
   "id": "9a17dc7b",
   "metadata": {},
   "outputs": [],
   "source": [
    "import gymnasium as gym\n",
    "import numpy as np\n",
    "from collections import defaultdict\n",
    "import matplotlib.pyplot as plt\n",
    "import numpy as np"
   ]
  },
  {
   "cell_type": "code",
   "execution_count": 2,
   "id": "8a8c3ea7-9634-4dca-a9bc-4f556b1a2ed4",
   "metadata": {},
   "outputs": [],
   "source": [
    "np.bool = bool"
   ]
  },
  {
   "cell_type": "code",
   "execution_count": 3,
   "id": "5443fc76-97e7-4b4e-99df-33498ee050fa",
   "metadata": {},
   "outputs": [],
   "source": [
    "def create_epsilon_greedy_policy(Q, epsilon, nA):\n",
    "    def policy_fn(state):\n",
    "        A = np.ones(nA, dtype=float) * epsilon / nA\n",
    "        best_action = np.argmax(Q[state])\n",
    "        A[best_action] += (1.0 - epsilon)\n",
    "        return A\n",
    "    return policy_fn"
   ]
  },
  {
   "cell_type": "code",
   "execution_count": 4,
   "id": "0482a9d0-07c5-432f-81c5-b886c0e3b528",
   "metadata": {},
   "outputs": [],
   "source": [
    "def mc_control_first_visit(env, num_episodes, gamma=1.0, epsilon=0.1):\n",
    "    returns_sum = defaultdict(float)\n",
    "    returns_count = defaultdict(float)\n",
    "    Q = defaultdict(lambda: np.zeros(env.action_space.n))\n",
    "    policy = create_epsilon_greedy_policy(Q, epsilon, env.action_space.n)\n",
    "\n",
    "    total_rewards = []\n",
    "    win_count = 0\n",
    "    goal_state = env.observation_space.n - 1  \n",
    "\n",
    "    for i_episode in range(1, num_episodes + 1):\n",
    "        episode = []\n",
    "        try:\n",
    "            state = env.reset()[0]\n",
    "        except TypeError:\n",
    "            state = env.reset()\n",
    "\n",
    "        total_reward = 0\n",
    "\n",
    "        while True:\n",
    "            probs = policy(state)\n",
    "            action = np.random.choice(np.arange(len(probs)), p=probs)\n",
    "            try:\n",
    "                next_state, reward, terminated, truncated, _ = env.step(action)\n",
    "                done = terminated or truncated\n",
    "            except ValueError:\n",
    "                next_state, reward, done, _ = env.step(action)\n",
    "\n",
    "            episode.append((state, action, reward))\n",
    "            total_reward += reward\n",
    "            state = next_state\n",
    "\n",
    "            if done:\n",
    "                if state == goal_state:\n",
    "                    win_count += 1\n",
    "                break\n",
    "\n",
    "        visited = set()\n",
    "        G = 0\n",
    "        for t in reversed(range(len(episode))):\n",
    "            s, a, r = episode[t]\n",
    "            G = gamma * G + r\n",
    "            if (s, a) not in visited:\n",
    "                visited.add((s, a))\n",
    "                returns_sum[(s, a)] += G\n",
    "                returns_count[(s, a)] += 1\n",
    "                Q[s][a] = returns_sum[(s, a)] / returns_count[(s, a)]\n",
    "\n",
    "        total_rewards.append(total_reward)\n",
    "\n",
    "    print(f\"\\nTotal Wins (First Visit): {win_count}\")\n",
    "    print(f\"Average Reward (First Visit): {np.mean(total_rewards):.2f}\")\n",
    "\n",
    "    plt.plot(total_rewards)\n",
    "    plt.title(\"First Visit MC - Episode Rewards\")\n",
    "    plt.xlabel(\"Episode\")\n",
    "    plt.ylabel(\"Total Reward\")\n",
    "    plt.grid(True)\n",
    "    plt.show()\n",
    "\n",
    "    return Q"
   ]
  },
  {
   "cell_type": "code",
   "execution_count": 5,
   "id": "282e8538",
   "metadata": {},
   "outputs": [],
   "source": [
    "def mc_control_every_visit(env, num_episodes, gamma=1.0, epsilon=0.1):\n",
    "    returns_sum = defaultdict(float)\n",
    "    returns_count = defaultdict(float)\n",
    "    Q = defaultdict(lambda: np.zeros(env.action_space.n))\n",
    "    policy = create_epsilon_greedy_policy(Q, epsilon, env.action_space.n)\n",
    "\n",
    "    total_rewards = []\n",
    "    win_count = 0\n",
    "    goal_state = env.observation_space.n - 1  \n",
    "    for i_episode in range(1, num_episodes + 1):\n",
    "        episode = []\n",
    "        try:\n",
    "            state = env.reset()[0]\n",
    "        except TypeError:\n",
    "            state = env.reset()\n",
    "\n",
    "        total_reward = 0\n",
    "\n",
    "        while True:\n",
    "            probs = policy(state)\n",
    "            action = np.random.choice(np.arange(len(probs)), p=probs)\n",
    "            try:\n",
    "                next_state, reward, terminated, truncated, _ = env.step(action)\n",
    "                done = terminated or truncated\n",
    "            except ValueError:\n",
    "                next_state, reward, done, _ = env.step(action)\n",
    "\n",
    "            episode.append((state, action, reward))\n",
    "            total_reward += reward\n",
    "            state = next_state\n",
    "\n",
    "            if done:\n",
    "                if state == goal_state:\n",
    "                    win_count += 1\n",
    "                break\n",
    "\n",
    "        G = 0\n",
    "        for t in reversed(range(len(episode))):\n",
    "            s, a, r = episode[t]\n",
    "            G = gamma * G + r\n",
    "            returns_sum[(s, a)] += G\n",
    "            returns_count[(s, a)] += 1\n",
    "            Q[s][a] = returns_sum[(s, a)] / returns_count[(s, a)]\n",
    "\n",
    "        total_rewards.append(total_reward)\n",
    "\n",
    "    print(f\"\\nTotal Wins (Every Visit): {win_count}\")\n",
    "    print(f\"Average Reward (Every Visit): {np.mean(total_rewards):.2f}\")\n",
    "\n",
    "    # Plot reward trend\n",
    "    plt.plot(total_rewards)\n",
    "    plt.title(\"Every Visit MC - Episode Rewards\")\n",
    "    plt.xlabel(\"Episode\")\n",
    "    plt.ylabel(\"Total Reward\")\n",
    "    plt.grid(True)\n",
    "    plt.show()\n",
    "\n",
    "    return Q"
   ]
  },
  {
   "cell_type": "code",
   "execution_count": 6,
   "id": "49754a2c-1166-4ba4-b079-083c62c2e3ec",
   "metadata": {},
   "outputs": [],
   "source": [
    "def print_policy(Q, env):\n",
    "    policy_grid = []\n",
    "    action_map = {0: '↑', 1: '→', 2: '↓', 3: '←'}\n",
    "\n",
    "    nrow, ncol = env.unwrapped.shape\n",
    "\n",
    "    for row in range(nrow):\n",
    "        row_policy = []\n",
    "        for col in range(ncol):\n",
    "            state = row * ncol + col\n",
    "            if state in Q:\n",
    "                best_action = np.argmax(Q[state])\n",
    "                row_policy.append(action_map[best_action])\n",
    "            else:\n",
    "                row_policy.append(' ')\n",
    "        policy_grid.append(row_policy)\n",
    "\n",
    "    for row in policy_grid:\n",
    "        print(' '.join(row))"
   ]
  },
  {
   "cell_type": "code",
   "execution_count": 7,
   "id": "b571a85f-c029-4239-b223-a867b3791005",
   "metadata": {},
   "outputs": [],
   "source": [
    "env = gym.make(\"CliffWalking-v0\")"
   ]
  },
  {
   "cell_type": "code",
   "execution_count": 8,
   "id": "c6473730-dee2-4a2c-b0cb-de1689616260",
   "metadata": {},
   "outputs": [
    {
     "name": "stdout",
     "output_type": "stream",
     "text": [
      "Monte Carlo First Visit\n",
      "\n",
      "Total Wins (First Visit): 500\n",
      "Average Reward (First Visit): -2459.50\n"
     ]
    },
    {
     "data": {
      "image/png": "[encoded data removed]",
      "text/plain": [
       "<Figure size 640x480 with 1 Axes>"
      ]
     },
     "metadata": {},
     "output_type": "display_data"
    },
    {
     "name": "stdout",
     "output_type": "stream",
     "text": [
      "\n",
      "Optimal Policy (Monte Carlo First Visit):\n",
      "→ → → → → → → → → → ↓ ←\n",
      "↑ ↑ ↑ ↑ ↑ ↑ ↑ ↑ ↑ ↑ → ↓\n",
      "↑ ↓ ↓ ↑ ← ↑ ↑ ↑ ↓ ↓ → ↓\n",
      "↓                      \n"
     ]
    }
   ],
   "source": [
    "print(\"Monte Carlo First Visit\")\n",
    "\n",
    "Q_first = mc_control_first_visit(env, num_episodes=500)\n",
    "\n",
    "print(\"\\nOptimal Policy (Monte Carlo First Visit):\")\n",
    "print_policy(Q_first, env)"
   ]
  },
  {
   "cell_type": "code",
   "execution_count": 9,
   "id": "3ccc4a99-316f-4123-a392-fa8753718bf8",
   "metadata": {},
   "outputs": [
    {
     "name": "stdout",
     "output_type": "stream",
     "text": [
      "Monte Carlo Every Visit\n"
     ]
    },
    {
     "ename": "KeyboardInterrupt",
     "evalue": "",
     "output_type": "error",
     "traceback": [
      "\u001b[0;31m---------------------------------------------------------------------------\u001b[0m",
      "\u001b[0;31mKeyboardInterrupt\u001b[0m                         Traceback (most recent call last)",
      "Cell \u001b[0;32mIn[9], line 3\u001b[0m\n\u001b[1;32m      1\u001b[0m \u001b[38;5;28mprint\u001b[39m(\u001b[38;5;124m\"\u001b[39m\u001b[38;5;124mMonte Carlo Every Visit\u001b[39m\u001b[38;5;124m\"\u001b[39m)\n\u001b[0;32m----> 3\u001b[0m Q_every \u001b[38;5;241m=\u001b[39m \u001b[43mmc_control_every_visit\u001b[49m\u001b[43m(\u001b[49m\u001b[43menv\u001b[49m\u001b[43m,\u001b[49m\u001b[43m \u001b[49m\u001b[43mnum_episodes\u001b[49m\u001b[38;5;241;43m=\u001b[39;49m\u001b[38;5;241;43m500\u001b[39;49m\u001b[43m)\u001b[49m\n\u001b[1;32m      5\u001b[0m \u001b[38;5;28mprint\u001b[39m(\u001b[38;5;124m\"\u001b[39m\u001b[38;5;130;01m\\n\u001b[39;00m\u001b[38;5;124mOptimal Policy (Monte Carlo Every Visit):\u001b[39m\u001b[38;5;124m\"\u001b[39m)\n\u001b[1;32m      6\u001b[0m print_policy(Q_every, env)\n",
      "Cell \u001b[0;32mIn[5], line 21\u001b[0m, in \u001b[0;36mmc_control_every_visit\u001b[0;34m(env, num_episodes, gamma, epsilon)\u001b[0m\n\u001b[1;32m     19\u001b[0m \u001b[38;5;28;01mwhile\u001b[39;00m \u001b[38;5;28;01mTrue\u001b[39;00m:\n\u001b[1;32m     20\u001b[0m     probs \u001b[38;5;241m=\u001b[39m policy(state)\n\u001b[0;32m---> 21\u001b[0m     action \u001b[38;5;241m=\u001b[39m \u001b[43mnp\u001b[49m\u001b[38;5;241;43m.\u001b[39;49m\u001b[43mrandom\u001b[49m\u001b[38;5;241;43m.\u001b[39;49m\u001b[43mchoice\u001b[49m\u001b[43m(\u001b[49m\u001b[43mnp\u001b[49m\u001b[38;5;241;43m.\u001b[39;49m\u001b[43marange\u001b[49m\u001b[43m(\u001b[49m\u001b[38;5;28;43mlen\u001b[39;49m\u001b[43m(\u001b[49m\u001b[43mprobs\u001b[49m\u001b[43m)\u001b[49m\u001b[43m)\u001b[49m\u001b[43m,\u001b[49m\u001b[43m \u001b[49m\u001b[43mp\u001b[49m\u001b[38;5;241;43m=\u001b[39;49m\u001b[43mprobs\u001b[49m\u001b[43m)\u001b[49m\n\u001b[1;32m     22\u001b[0m     \u001b[38;5;28;01mtry\u001b[39;00m:\n\u001b[1;32m     23\u001b[0m         next_state, reward, terminated, truncated, _ \u001b[38;5;241m=\u001b[39m env\u001b[38;5;241m.\u001b[39mstep(action)\n",
      "\u001b[0;31mKeyboardInterrupt\u001b[0m: "
     ]
    }
   ],
   "source": [
    "print(\"Monte Carlo Every Visit\")\n",
    "\n",
    "Q_every = mc_control_every_visit(env, num_episodes=500)\n",
    "\n",
    "print(\"\\nOptimal Policy (Monte Carlo Every Visit):\")\n",
    "print_policy(Q_every, env)"
   ]
  },
  {
   "cell_type": "code",
   "execution_count": null,
   "id": "9258fae0-f467-450f-aa71-44fad164381f",
   "metadata": {},
   "outputs": [],
   "source": []
  }
 ],
 "metadata": {
  "kernelspec": {
   "display_name": "Python 3 (ipykernel)",
   "language": "python",
   "name": "python3"
  },
  "language_info": {
   "codemirror_mode": {
    "name": "ipython",
    "version": 3
   },
   "file_extension": ".py",
   "mimetype": "text/x-python",
   "name": "python",
   "nbconvert_exporter": "python",
   "pygments_lexer": "ipython3",
   "version": "3.12.1"
  }
 },
 "nbformat": 4,
 "nbformat_minor": 5
}
