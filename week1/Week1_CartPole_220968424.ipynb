{
 "cells": [
  {
   "cell_type": "markdown",
   "id": "f9366cbc-5141-49c0-b43f-63d105c9831d",
   "metadata": {},
   "source": [
    "## Name : Adwaiy Singh\n",
    "## Reg. No. : 220968424\n",
    "## Sec. : A\n",
    "## Batch: 2\n",
    "\n",
    "# WEEK 1"
   ]
  },
  {
   "cell_type": "markdown",
   "id": "7fef7eb9-0522-4c4e-95e0-098ce44bd13f",
   "metadata": {},
   "source": [
    "## 2. Use the CartPole-v0 environment and write a program to : \n",
    "### a. Implement the CartPole environment for a certain number of steps \n",
    "### b. Implement the CartPole environment for a certain number of episodes \n",
    "### c. Compare and comment on the rewards earned for both approaches. \n",
    "### d. Plot the cumulative reward of the games and note down the results. "
   ]
  },
  {
   "cell_type": "code",
   "execution_count": 3,
   "id": "16d5d3f3",
   "metadata": {},
   "outputs": [],
   "source": [
    "import gymnasium as gym\n",
    "import numpy as np\n",
    "import matplotlib.pyplot as plt"
   ]
  },
  {
   "cell_type": "code",
   "execution_count": 4,
   "id": "92163f3a",
   "metadata": {},
   "outputs": [],
   "source": [
    "env = gym.make(\"CartPole-v1\", render_mode=\"human\")"
   ]
  },
  {
   "cell_type": "code",
   "execution_count": 5,
   "id": "5b3d80c0",
   "metadata": {},
   "outputs": [
    {
     "data": {
      "text/plain": [
       "<TimeLimit<OrderEnforcing<PassiveEnvChecker<CartPoleEnv<CartPole-v1>>>>>"
      ]
     },
     "execution_count": 5,
     "metadata": {},
     "output_type": "execute_result"
    }
   ],
   "source": [
    "env"
   ]
  },
  {
   "cell_type": "code",
   "execution_count": 6,
   "id": "a290d569",
   "metadata": {},
   "outputs": [
    {
     "name": "stdout",
     "output_type": "stream",
     "text": [
      "The observation space: Box([-4.8               -inf -0.41887903        -inf], [4.8               inf 0.41887903        inf], (4,), float32)\n",
      "The action space: Discrete(2)\n"
     ]
    }
   ],
   "source": [
    "obs_space = env.observation_space\n",
    "action_space = env.action_space\n",
    "\n",
    "print(\"The observation space: {}\".format(obs_space))\n",
    "print(\"The action space: {}\".format(action_space))"
   ]
  },
  {
   "cell_type": "code",
   "execution_count": 5,
   "id": "2adad543",
   "metadata": {},
   "outputs": [
    {
     "name": "stdout",
     "output_type": "stream",
     "text": [
      "The initial state is [ 0.03647037 -0.0892358  -0.05592803 -0.06312564]\n"
     ]
    },
    {
     "name": "stderr",
     "output_type": "stream",
     "text": [
      "2025-02-23 22:19:52.897 Python[59672:2071560] +[IMKClient subclass]: chose IMKClient_Legacy\n",
      "2025-02-23 22:19:52.897 Python[59672:2071560] +[IMKInputSession subclass]: chose IMKInputSession_Legacy\n"
     ]
    }
   ],
   "source": [
    "state, info = env.reset(seed=123, options={\"low\": -0.1, \"high\": 0.1})\n",
    "# state, info = env.reset()\n",
    "\n",
    "print(\"The initial state is {}\".format(state))"
   ]
  },
  {
   "cell_type": "code",
   "execution_count": 6,
   "id": "d006a3a7",
   "metadata": {},
   "outputs": [
    {
     "name": "stdout",
     "output_type": "stream",
     "text": [
      "Episode finished after 14 steps.\n",
      "Episode finished after 22 steps.\n",
      "Episode finished after 40 steps.\n",
      "Episode finished after 53 steps.\n",
      "Episode finished after 63 steps.\n",
      "Episode finished after 77 steps.\n",
      "Episode finished after 90 steps.\n"
     ]
    }
   ],
   "source": [
    "num_steps = 100\n",
    "total_reward_steps = 0\n",
    "cumulative_rewards_steps = []\n",
    "\n",
    "done = False\n",
    "for step in range(num_steps):\n",
    "    random_action = env.action_space.sample()\n",
    "    new_obs, reward, terminated, truncated, info = env.step(random_action)\n",
    "    \n",
    "    total_reward_steps += reward\n",
    "    cumulative_rewards_steps.append(total_reward_steps)\n",
    "    \n",
    "    if terminated or truncated:\n",
    "        print(f\"Episode finished after {step+1} steps.\")\n",
    "        state, info = env.reset()"
   ]
  },
  {
   "cell_type": "code",
   "execution_count": 11,
   "id": "64a611db",
   "metadata": {},
   "outputs": [
    {
     "name": "stdout",
     "output_type": "stream",
     "text": [
      "Total reward for 100 steps approach: 100.0\n"
     ]
    }
   ],
   "source": [
    "print(f\"Total reward for {num_steps} steps approach: {total_reward_steps}\")\n",
    "\n",
    "env.close()"
   ]
  },
  {
   "cell_type": "code",
   "execution_count": 12,
   "id": "2746aa9f",
   "metadata": {},
   "outputs": [],
   "source": [
    "env = gym.make(\"CartPole-v1\", render_mode=\"human\")"
   ]
  },
  {
   "cell_type": "code",
   "execution_count": 13,
   "id": "14850ed2",
   "metadata": {},
   "outputs": [
    {
     "name": "stdout",
     "output_type": "stream",
     "text": [
      "Episode 1 finished after 20 steps.\n",
      "Episode 2 finished after 26 steps.\n",
      "Episode 3 finished after 16 steps.\n",
      "Episode 4 finished after 20 steps.\n",
      "Episode 5 finished after 13 steps.\n",
      "Episode 6 finished after 14 steps.\n",
      "Episode 7 finished after 16 steps.\n",
      "Episode 8 finished after 42 steps.\n",
      "Episode 9 finished after 30 steps.\n",
      "Episode 10 finished after 16 steps.\n"
     ]
    }
   ],
   "source": [
    "num_episodes = 10\n",
    "total_reward_episodes = 0\n",
    "cumulative_rewards_episodes = []\n",
    "\n",
    "for episode in range(num_episodes):\n",
    "    state, info = env.reset()\n",
    "    \n",
    "    done = False\n",
    "    steps_in_episode = 0\n",
    "    episode_reward = 0\n",
    "    \n",
    "    while not done:\n",
    "        random_action = env.action_space.sample()\n",
    "        new_obs, reward, terminated, truncated, info = env.step(random_action)\n",
    "        \n",
    "        episode_reward += reward\n",
    "        steps_in_episode += 1\n",
    "\n",
    "        if terminated or truncated:\n",
    "            print(f\"Episode {episode + 1} finished after {steps_in_episode} steps.\")\n",
    "            break\n",
    "        \n",
    "    total_reward_episodes += episode_reward\n",
    "    cumulative_rewards_episodes.append(total_reward_episodes)"
   ]
  },
  {
   "cell_type": "code",
   "execution_count": 14,
   "id": "58444a65",
   "metadata": {},
   "outputs": [
    {
     "name": "stdout",
     "output_type": "stream",
     "text": [
      "Total reward for 10 episodes approach: 213.0\n"
     ]
    }
   ],
   "source": [
    "print(f\"Total reward for {num_episodes} episodes approach: {total_reward_episodes}\")\n",
    "\n",
    "env.close()"
   ]
  },
  {
   "cell_type": "code",
   "execution_count": 15,
   "id": "004c43f1",
   "metadata": {},
   "outputs": [
    {
     "data": {
      "image/png": "[encoded data removed]",
      "text/plain": [
       "<Figure size 1000x600 with 1 Axes>"
      ]
     },
     "metadata": {},
     "output_type": "display_data"
    }
   ],
   "source": [
    "plt.figure(figsize=(10, 6))\n",
    "\n",
    "plt.plot(range(num_steps), cumulative_rewards_steps, label=\"Steps Approach\", color='blue')\n",
    "plt.plot(range(num_episodes), cumulative_rewards_episodes, label=\"Episodes Approach\", color='orange')\n",
    "\n",
    "plt.xlabel(\"Iterations\")\n",
    "plt.ylabel(\"Cumulative Reward\")\n",
    "plt.title(\"Cumulative Reward Comparison: Steps vs Episodes Approach\")\n",
    "plt.legend()\n",
    "\n",
    "plt.grid(True)\n",
    "plt.show()"
   ]
  },
  {
   "cell_type": "code",
   "execution_count": null,
   "id": "8ade0cb5-36e8-4929-8b50-1a63395c5475",
   "metadata": {},
   "outputs": [],
   "source": []
  }
 ],
 "metadata": {
  "kernelspec": {
   "display_name": "Python 3 (ipykernel)",
   "language": "python",
   "name": "python3"
  },
  "language_info": {
   "codemirror_mode": {
    "name": "ipython",
    "version": 3
   },
   "file_extension": ".py",
   "mimetype": "text/x-python",
   "name": "python",
   "nbconvert_exporter": "python",
   "pygments_lexer": "ipython3",
   "version": "3.12.1"
  }
 },
 "nbformat": 4,
 "nbformat_minor": 5
}
