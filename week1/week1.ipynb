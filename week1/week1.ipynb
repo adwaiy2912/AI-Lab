{
 "cells": [
  {
   "cell_type": "code",
   "execution_count": 1,
   "id": "97fb9838",
   "metadata": {},
   "outputs": [
    {
     "name": "stdout",
     "output_type": "stream",
     "text": [
      "Defaulting to user installation because normal site-packages is not writeable\n",
      "Collecting gymnasium\n",
      "  Downloading gymnasium-1.0.0-py3-none-any.whl (958 kB)\n",
      "Requirement already satisfied: numpy>=1.21.0 in c:\\users\\mca\\appdata\\roaming\\python\\python39\\site-packages (from gymnasium) (1.21.6)\n",
      "Collecting farama-notifications>=0.0.1\n",
      "  Downloading Farama_Notifications-0.0.4-py3-none-any.whl (2.5 kB)\n",
      "Requirement already satisfied: importlib-metadata>=4.8.0 in c:\\users\\mca\\appdata\\roaming\\python\\python39\\site-packages (from gymnasium) (8.5.0)\n",
      "Requirement already satisfied: typing-extensions>=4.3.0 in c:\\users\\mca\\appdata\\roaming\\python\\python39\\site-packages (from gymnasium) (4.12.2)\n",
      "Requirement already satisfied: cloudpickle>=1.2.0 in c:\\programdata\\anaconda3\\lib\\site-packages (from gymnasium) (2.0.0)\n",
      "Requirement already satisfied: zipp>=3.20 in c:\\users\\mca\\appdata\\roaming\\python\\python39\\site-packages (from importlib-metadata>=4.8.0->gymnasium) (3.21.0)\n",
      "Installing collected packages: farama-notifications, gymnasium\n",
      "Successfully installed farama-notifications-0.0.4 gymnasium-1.0.0\n",
      "Note: you may need to restart the kernel to use updated packages.\n"
     ]
    }
   ],
   "source": [
    "pip install gymnasium"
   ]
  },
  {
   "cell_type": "code",
   "execution_count": 107,
   "id": "16d5d3f3",
   "metadata": {},
   "outputs": [],
   "source": [
    "import gymnasium as gym\n",
    "import pygame\n",
    "import numpy as np\n",
    "import matplotlib.pyplot as plt"
   ]
  },
  {
   "cell_type": "code",
   "execution_count": 97,
   "id": "92163f3a",
   "metadata": {},
   "outputs": [],
   "source": [
    "pygame.init()\n",
    "env = gym.make(\"CartPole-v1\", render_mode=\"human\")"
   ]
  },
  {
   "cell_type": "code",
   "execution_count": 98,
   "id": "5b3d80c0",
   "metadata": {},
   "outputs": [
    {
     "data": {
      "text/plain": [
       "<TimeLimit<OrderEnforcing<PassiveEnvChecker<CartPoleEnv<CartPole-v1>>>>>"
      ]
     },
     "execution_count": 98,
     "metadata": {},
     "output_type": "execute_result"
    }
   ],
   "source": [
    "env"
   ]
  },
  {
   "cell_type": "code",
   "execution_count": 99,
   "id": "a290d569",
   "metadata": {},
   "outputs": [
    {
     "name": "stdout",
     "output_type": "stream",
     "text": [
      "The observation space: Box([-4.8               -inf -0.41887903        -inf], [4.8               inf 0.41887903        inf], (4,), float32)\n",
      "The action space: Discrete(2)\n"
     ]
    }
   ],
   "source": [
    "obs_space = env.observation_space\n",
    "action_space = env.action_space\n",
    "\n",
    "print(\"The observation space: {}\".format(obs_space))\n",
    "print(\"The action space: {}\".format(action_space))"
   ]
  },
  {
   "cell_type": "code",
   "execution_count": 100,
   "id": "2adad543",
   "metadata": {},
   "outputs": [
    {
     "name": "stdout",
     "output_type": "stream",
     "text": [
      "The initial state is [ 0.03647037 -0.0892358  -0.05592803 -0.06312564]\n"
     ]
    }
   ],
   "source": [
    "state, info = env.reset(seed=123, options={\"low\": -0.1, \"high\": 0.1})\n",
    "# state, info = env.reset()\n",
    "\n",
    "print(\"The initial state is {}\".format(state))"
   ]
  },
  {
   "cell_type": "code",
   "execution_count": 101,
   "id": "d006a3a7",
   "metadata": {},
   "outputs": [
    {
     "name": "stdout",
     "output_type": "stream",
     "text": [
      "Episode finished after 15 steps.\n",
      "Episode finished after 28 steps.\n",
      "Episode finished after 41 steps.\n",
      "Episode finished after 59 steps.\n",
      "Episode finished after 72 steps.\n"
     ]
    }
   ],
   "source": [
    "num_steps = 100\n",
    "total_reward_steps = 0\n",
    "cumulative_rewards_steps = []\n",
    "\n",
    "done = False\n",
    "for step in range(num_steps):\n",
    "    for event in pygame.event.get():\n",
    "        if event.type == pygame.QUIT:\n",
    "            env.close()\n",
    "            pygame.quit()\n",
    "            exit()\n",
    "            \n",
    "    random_action = env.action_space.sample()\n",
    "    new_obs, reward, terminated, truncated, info = env.step(random_action)\n",
    "    \n",
    "    total_reward_steps += reward\n",
    "    cumulative_rewards_steps.append(total_reward_steps)\n",
    "    \n",
    "    if terminated or truncated:\n",
    "        print(f\"Episode finished after {step+1} steps.\")\n",
    "        state, info = env.reset()"
   ]
  },
  {
   "cell_type": "code",
   "execution_count": 102,
   "id": "64a611db",
   "metadata": {},
   "outputs": [
    {
     "name": "stdout",
     "output_type": "stream",
     "text": [
      "Total reward for 100 steps approach: 100.0\n"
     ]
    }
   ],
   "source": [
    "print(f\"Total reward for {num_steps} steps approach: {total_reward_steps}\")\n",
    "\n",
    "env.close()\n",
    "pygame.quit()"
   ]
  },
  {
   "cell_type": "code",
   "execution_count": 103,
   "id": "2746aa9f",
   "metadata": {},
   "outputs": [],
   "source": [
    "pygame.init()\n",
    "env = gym.make(\"CartPole-v1\", render_mode=\"human\")"
   ]
  },
  {
   "cell_type": "code",
   "execution_count": 104,
   "id": "14850ed2",
   "metadata": {},
   "outputs": [
    {
     "name": "stdout",
     "output_type": "stream",
     "text": [
      "Episode 1 finished after 24 steps.\n",
      "Episode 2 finished after 32 steps.\n",
      "Episode 3 finished after 14 steps.\n",
      "Episode 4 finished after 27 steps.\n",
      "Episode 5 finished after 12 steps.\n",
      "Episode 6 finished after 30 steps.\n",
      "Episode 7 finished after 18 steps.\n",
      "Episode 8 finished after 42 steps.\n",
      "Episode 9 finished after 18 steps.\n",
      "Episode 10 finished after 12 steps.\n"
     ]
    }
   ],
   "source": [
    "num_episodes = 10\n",
    "total_reward_episodes = 0\n",
    "cumulative_rewards_episodes = []\n",
    "\n",
    "for episode in range(num_episodes):\n",
    "    state, info = env.reset()\n",
    "    \n",
    "    done = False\n",
    "    steps_in_episode = 0\n",
    "    episode_reward = 0\n",
    "    \n",
    "    while not done:\n",
    "        for event in pygame.event.get():\n",
    "            if event.type == pygame.QUIT:\n",
    "                env.close()\n",
    "                pygame.quit()\n",
    "                exit()\n",
    "        \n",
    "        random_action = env.action_space.sample()\n",
    "        new_obs, reward, terminated, truncated, info = env.step(random_action)\n",
    "        \n",
    "        episode_reward += reward\n",
    "        steps_in_episode += 1\n",
    "\n",
    "        if terminated or truncated:\n",
    "            print(f\"Episode {episode + 1} finished after {steps_in_episode} steps.\")\n",
    "            break\n",
    "        \n",
    "    total_reward_episodes += episode_reward\n",
    "    cumulative_rewards_episodes.append(total_reward_episodes)"
   ]
  },
  {
   "cell_type": "code",
   "execution_count": 105,
   "id": "58444a65",
   "metadata": {},
   "outputs": [
    {
     "name": "stdout",
     "output_type": "stream",
     "text": [
      "Total reward for 10 episodes approach: 229.0\n"
     ]
    }
   ],
   "source": [
    "print(f\"Total reward for {num_episodes} episodes approach: {total_reward_episodes}\")\n",
    "\n",
    "env.close()\n",
    "pygame.quit()"
   ]
  },
  {
   "cell_type": "code",
   "execution_count": 108,
   "id": "004c43f1",
   "metadata": {},
   "outputs": [
    {
     "data": {
      "image/png": "[encoded data removed]",
      "text/plain": [
       "<Figure size 720x432 with 1 Axes>"
      ]
     },
     "metadata": {
      "needs_background": "light"
     },
     "output_type": "display_data"
    }
   ],
   "source": [
    "plt.figure(figsize=(10, 6))\n",
    "\n",
    "plt.plot(range(num_steps), cumulative_rewards_steps, label=\"Steps Approach\", color='blue')\n",
    "plt.plot(range(num_episodes), cumulative_rewards_episodes, label=\"Episodes Approach\", color='orange')\n",
    "\n",
    "plt.xlabel(\"Iterations\")\n",
    "plt.ylabel(\"Cumulative Reward\")\n",
    "plt.title(\"Cumulative Reward Comparison: Steps vs Episodes Approach\")\n",
    "plt.legend()\n",
    "\n",
    "plt.grid(True)\n",
    "plt.show()"
   ]
  },
  {
   "cell_type": "code",
   "execution_count": null,
   "id": "1fa7deb2",
   "metadata": {},
   "outputs": [],
   "source": []
  }
 ],
 "metadata": {
  "kernelspec": {
   "display_name": "Python 3 (ipykernel)",
   "language": "python",
   "name": "python3"
  },
  "language_info": {
   "codemirror_mode": {
    "name": "ipython",
    "version": 3
   },
   "file_extension": ".py",
   "mimetype": "text/x-python",
   "name": "python",
   "nbconvert_exporter": "python",
   "pygments_lexer": "ipython3",
   "version": "3.12.1"
  }
 },
 "nbformat": 4,
 "nbformat_minor": 5
}
