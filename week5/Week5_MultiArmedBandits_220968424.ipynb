{
 "cells": [
  {
   "cell_type": "markdown",
   "id": "42ba7a07",
   "metadata": {},
   "source": [
    "## Name : Adwaiy Singh\n",
    "## Reg. No. : 220968424\n",
    "## Sec. : A\n",
    "## Batch: 2\n",
    "## WEEK 5"
   ]
  },
  {
   "cell_type": "markdown",
   "id": "943da9b9",
   "metadata": {},
   "source": [
    "### MULTI-ARMED BANDITS – AD OPTIMIZATION\n",
    "\n",
    "Consider the dataset **\"Ads_Clicks,\"** which contains information about user interactions with advertisements over time. An advertising company is running **18 different ads** on a webpage, all targeted toward a similar audience. The dataset records whether a user clicked at a given time step. Each column corresponds to a specific ad, where **YES(1) indicates that the ad was clicked, and NO(0) indicates that it was not.**\n",
    "\n",
    "##### Consider the attached csv fi each adle.\n",
    "    1.\tDefine the multi-armed bandit (MAB) problem in the context of ad optimization, considering how an agent selects among multiple ads to maximize clicks.\n",
    "    2.\tHow does the exploration-exploitation trade-off influence decision-making in this scenario?\n",
    "    3.\tImplement the ε-greedy algorithm to optimize ad selection and compute the total rewards after 2000-time steps for:ε = 0.05 and ε = 0.2\n",
    "    4.\tCompare the effect of different ε values on total rewards and action selection.\n",
    "    5.\tImplement the UCB method with an exploration factor c = 2.0 and compute total rewards after 2000-time steps.\n",
    "    6.\tHow does increasing or decreasing the exploration factor c affect the performance?\n",
    "    7.\tAnalyze how the estimated action values (Q-values) compare to the actual optimal action in both ε-greedy and UCB methods.\n",
    "    8.\tWhich approach leads to a better approximation of the optimal action?\n",
    "    9.\tEvaluate how the performance of ε-greedy and UCB changes when the time horizon is extended to 5000-time steps instead of 2000-time steps.\n",
    "    10.\tDoes a longer time horizon reduce the impact of exploration parameters (ε or c) on total rewards?\n"
   ]
  },
  {
   "cell_type": "markdown",
   "id": "572185b7",
   "metadata": {},
   "source": [
    "#### Imports"
   ]
  },
  {
   "cell_type": "code",
   "execution_count": 1,
   "id": "e08ed353",
   "metadata": {},
   "outputs": [],
   "source": [
    "import pandas as pd\n",
    "import numpy as np\n",
    "import random\n",
    "import math"
   ]
  },
  {
   "cell_type": "markdown",
   "id": "dec1133e",
   "metadata": {},
   "source": [
    "#### Loading data"
   ]
  },
  {
   "cell_type": "code",
   "execution_count": 2,
   "id": "4e3a40ba",
   "metadata": {},
   "outputs": [
    {
     "data": {
      "text/html": [
       "<div>\n",
       "<style scoped>\n",
       "    .dataframe tbody tr th:only-of-type {\n",
       "        vertical-align: middle;\n",
       "    }\n",
       "\n",
       "    .dataframe tbody tr th {\n",
       "        vertical-align: top;\n",
       "    }\n",
       "\n",
       "    .dataframe thead th {\n",
       "        text-align: right;\n",
       "    }\n",
       "</style>\n",
       "<table border=\"1\" class=\"dataframe\">\n",
       "  <thead>\n",
       "    <tr style=\"text-align: right;\">\n",
       "      <th></th>\n",
       "      <th>Daily Time Spent on Site</th>\n",
       "      <th>Age</th>\n",
       "      <th>Area Income</th>\n",
       "      <th>Daily Internet Usage</th>\n",
       "      <th>Male</th>\n",
       "      <th>Timestamp</th>\n",
       "      <th>Clicked on Ad</th>\n",
       "      <th>city</th>\n",
       "      <th>province</th>\n",
       "      <th>category</th>\n",
       "    </tr>\n",
       "  </thead>\n",
       "  <tbody>\n",
       "    <tr>\n",
       "      <th>0</th>\n",
       "      <td>68.95</td>\n",
       "      <td>35</td>\n",
       "      <td>432837300.0</td>\n",
       "      <td>256.09</td>\n",
       "      <td>Perempuan</td>\n",
       "      <td>3/27/2016 0:53</td>\n",
       "      <td>No</td>\n",
       "      <td>Jakarta Timur</td>\n",
       "      <td>Daerah Khusus Ibukota Jakarta</td>\n",
       "      <td>Furniture</td>\n",
       "    </tr>\n",
       "    <tr>\n",
       "      <th>1</th>\n",
       "      <td>80.23</td>\n",
       "      <td>31</td>\n",
       "      <td>479092950.0</td>\n",
       "      <td>193.77</td>\n",
       "      <td>Laki-Laki</td>\n",
       "      <td>4/4/2016 1:39</td>\n",
       "      <td>No</td>\n",
       "      <td>Denpasar</td>\n",
       "      <td>Bali</td>\n",
       "      <td>Food</td>\n",
       "    </tr>\n",
       "    <tr>\n",
       "      <th>2</th>\n",
       "      <td>69.47</td>\n",
       "      <td>26</td>\n",
       "      <td>418501580.0</td>\n",
       "      <td>236.50</td>\n",
       "      <td>Perempuan</td>\n",
       "      <td>3/13/2016 20:35</td>\n",
       "      <td>No</td>\n",
       "      <td>Surabaya</td>\n",
       "      <td>Jawa Timur</td>\n",
       "      <td>Electronic</td>\n",
       "    </tr>\n",
       "    <tr>\n",
       "      <th>3</th>\n",
       "      <td>74.15</td>\n",
       "      <td>29</td>\n",
       "      <td>383643260.0</td>\n",
       "      <td>245.89</td>\n",
       "      <td>Laki-Laki</td>\n",
       "      <td>1/10/2016 2:31</td>\n",
       "      <td>No</td>\n",
       "      <td>Batam</td>\n",
       "      <td>Kepulauan Riau</td>\n",
       "      <td>House</td>\n",
       "    </tr>\n",
       "    <tr>\n",
       "      <th>4</th>\n",
       "      <td>68.37</td>\n",
       "      <td>35</td>\n",
       "      <td>517229930.0</td>\n",
       "      <td>225.58</td>\n",
       "      <td>Perempuan</td>\n",
       "      <td>6/3/2016 3:36</td>\n",
       "      <td>No</td>\n",
       "      <td>Medan</td>\n",
       "      <td>Sumatra Utara</td>\n",
       "      <td>Finance</td>\n",
       "    </tr>\n",
       "  </tbody>\n",
       "</table>\n",
       "</div>"
      ],
      "text/plain": [
       "   Daily Time Spent on Site  Age  Area Income  Daily Internet Usage  \\\n",
       "0                     68.95   35  432837300.0                256.09   \n",
       "1                     80.23   31  479092950.0                193.77   \n",
       "2                     69.47   26  418501580.0                236.50   \n",
       "3                     74.15   29  383643260.0                245.89   \n",
       "4                     68.37   35  517229930.0                225.58   \n",
       "\n",
       "        Male        Timestamp Clicked on Ad           city  \\\n",
       "0  Perempuan   3/27/2016 0:53            No  Jakarta Timur   \n",
       "1  Laki-Laki    4/4/2016 1:39            No       Denpasar   \n",
       "2  Perempuan  3/13/2016 20:35            No       Surabaya   \n",
       "3  Laki-Laki   1/10/2016 2:31            No          Batam   \n",
       "4  Perempuan    6/3/2016 3:36            No          Medan   \n",
       "\n",
       "                        province    category  \n",
       "0  Daerah Khusus Ibukota Jakarta   Furniture  \n",
       "1                           Bali        Food  \n",
       "2                     Jawa Timur  Electronic  \n",
       "3                 Kepulauan Riau       House  \n",
       "4                  Sumatra Utara     Finance  "
      ]
     },
     "execution_count": 2,
     "metadata": {},
     "output_type": "execute_result"
    }
   ],
   "source": [
    "clickedAdsDf = pd.read_csv(\"Clicked Ads Dataset.csv\")\n",
    "clickedAdsDf = clickedAdsDf.iloc[:,1:]\n",
    "\n",
    "clickedAdsDf.head()"
   ]
  },
  {
   "cell_type": "markdown",
   "id": "f094666f",
   "metadata": {},
   "source": [
    "#### Preprocessing data"
   ]
  },
  {
   "cell_type": "code",
   "execution_count": 3,
   "id": "15a74fa7",
   "metadata": {},
   "outputs": [
    {
     "data": {
      "text/plain": [
       "Daily Time Spent on Site    13\n",
       "Age                          0\n",
       "Area Income                 13\n",
       "Daily Internet Usage        11\n",
       "Male                         3\n",
       "Timestamp                    0\n",
       "Clicked on Ad                0\n",
       "city                         0\n",
       "province                     0\n",
       "category                     0\n",
       "dtype: int64"
      ]
     },
     "execution_count": 3,
     "metadata": {},
     "output_type": "execute_result"
    }
   ],
   "source": [
    "clickedAdsDf.isnull().sum()"
   ]
  },
  {
   "cell_type": "code",
   "execution_count": 4,
   "id": "e091747a",
   "metadata": {},
   "outputs": [],
   "source": [
    "clickedAdsDf['Daily Time Spent on Site'] = clickedAdsDf['Daily Time Spent on Site'].fillna(clickedAdsDf['Daily Time Spent on Site'].mean())\n",
    "clickedAdsDf['Area Income'] = clickedAdsDf['Area Income'].fillna(clickedAdsDf['Area Income'].mean())\n",
    "clickedAdsDf['Daily Internet Usage'] = clickedAdsDf['Daily Internet Usage'].fillna(clickedAdsDf['Daily Internet Usage'].mean())\n",
    "\n",
    "clickedAdsDf['Male'] = clickedAdsDf['Male'].fillna(clickedAdsDf['Male'].mode()[0])\n",
    "clickedAdsDf['Clicked on Ad'] = clickedAdsDf['Clicked on Ad'].map({'No': 0, 'Yes': 1})"
   ]
  },
  {
   "cell_type": "markdown",
   "id": "d54ebee2",
   "metadata": {},
   "source": [
    "### 1.\tDefine the multi-armed bandit (MAB) problem in the context of ad optimization, considering how an agent selects among multiple ads to maximize clicks."
   ]
  },
  {
   "cell_type": "markdown",
   "id": "4e2eae53",
   "metadata": {},
   "source": [
    "#### Ans.\n",
    "\n",
    "There are **10 different ads** being displayed to users, and each ad can either be clicked or not clicked. The goal is to select the best-performing ads, those that are most likely to generate a click, in order to **maximize the total number of clicks** over time.\n",
    "\n",
    "Each ad corresponds to an \"arm\" of the bandit, and the agent must select one ad (arm) at each time step. The agent will receive feedback on whether the selected ad was clicked (yes = 1) or not clicked (no = 0).\n",
    "\n",
    "##### The agent’s task is to balance between:\n",
    "    Exploration: Trying out different ads to gather more information about their click-through rates (CTRs) and performance.\n",
    "    Exploitation: Selecting the ads that have already shown a higher likelihood of getting clicked, thereby maximizing the total number of clicks in the long run."
   ]
  },
  {
   "cell_type": "markdown",
   "id": "1efac9d0",
   "metadata": {},
   "source": [
    "### 2. How does the exploration-exploitation trade-off influence decision-making in this scenario?"
   ]
  },
  {
   "cell_type": "markdown",
   "id": "6d387bf9",
   "metadata": {},
   "source": [
    "#### Ans.\n",
    "\n",
    "Exploration involves trying out different ads to gather more data about their click-through rates (CTR). Even if an ad has not performed well in the past, exploring it can provide valuable insights that might lead to discovering a more effective ad in the future. This is important for discovering new ads that might perform better over time.\n",
    "\n",
    "Exploitation involves focusing on ads that have already been shown to perform well (i.e., those with a higher CTR). By exploiting these ads, the agent maximizes immediate clicks, since it is relying on the ads that have historically yielded the best results.\n",
    "\n",
    "##### The trade-off arises because:\n",
    "\n",
    "    If the agent explores too much, it may waste resources on ads that aren't performing well, leading to fewer total clicks.\n",
    "    If the agent exploits too much, it may miss out on discovering better-performing ads, leading to stagnation in click performance."
   ]
  },
  {
   "cell_type": "markdown",
   "id": "31f27fdd",
   "metadata": {},
   "source": [
    "### 3. Implement the ε-greedy algorithm to optimize ad selection and compute the total rewards after 2000-time steps for: ε = 0.05 and ε = 0.2"
   ]
  },
  {
   "cell_type": "code",
   "execution_count": 5,
   "id": "9dcae98c",
   "metadata": {},
   "outputs": [],
   "source": [
    "def epsilon_greedy(epsilon, time_steps, df):\n",
    "    Q = [0] * n_ads\n",
    "    N = [0] * n_ads \n",
    "    total_reward = 0\n",
    "\n",
    "    for t in range(time_steps):\n",
    "        if random.random() < epsilon:\n",
    "            ad_index = random.randint(0, n_ads - 1)\n",
    "            chosen_category = ad_categories[ad_index]\n",
    "        else:\n",
    "            maxQ = max(Q)\n",
    "            ad_indices = [i for i, value in enumerate(Q) if value == maxQ]\n",
    "            ad_index = random.choice(ad_indices)\n",
    "            chosen_category = ad_categories[ad_index]\n",
    "\n",
    "        category_rows = df[df['category'] == chosen_category]\n",
    "        if not category_rows.empty:\n",
    "            reward = category_rows['Clicked on Ad'].iloc[t % len(category_rows)]\n",
    "        else:\n",
    "            reward = 0 \n",
    "            print(f\"Warning: No data found for category {chosen_category}.  Setting reward to 0.\")\n",
    "\n",
    "        N[ad_index] += 1\n",
    "        Q[ad_index] += (1 / N[ad_index]) * (reward - Q[ad_index])\n",
    "\n",
    "    return total_reward, Q, N"
   ]
  },
  {
   "cell_type": "code",
   "execution_count": 6,
   "id": "71f96697-7958-42d3-9a93-c51bc9fe4dbf",
   "metadata": {},
   "outputs": [
    {
     "name": "stdout",
     "output_type": "stream",
     "text": [
      "Identified 10 ad categories:\n",
      "['Furniture', 'Food', 'Electronic', 'House', 'Finance', 'Travel', 'Health', 'Bank', 'Fashion', 'Otomotif']\n"
     ]
    }
   ],
   "source": [
    "ad_categories = clickedAdsDf['category'].unique().tolist()\n",
    "n_ads = len(ad_categories)\n",
    "print(f\"Identified {n_ads} ad categories:\\n{ad_categories}\")"
   ]
  },
  {
   "cell_type": "code",
   "execution_count": 7,
   "id": "9176effa-0a24-41da-957f-16ea6a3c98bb",
   "metadata": {},
   "outputs": [
    {
     "name": "stdout",
     "output_type": "stream",
     "text": [
      "Epsilon-Greedy (ε=0.05, 2000 steps): Total Reward = 1119\n",
      "Epsilon-Greedy (ε=0.2, 2000 steps): Total Reward = 1066\n",
      "\n",
      "Epsilon-Greedy (ε=0.05): Action Counts = [57, 37, 24, 11, 1698, 14, 128, 12, 13, 6]\n",
      "Epsilon-Greedy (ε=0.2): Action Counts = [44, 37, 86, 53, 42, 49, 40, 33, 1528, 88]\n"
     ]
    }
   ],
   "source": [
    "time_steps = 2000\n",
    "epsilon_05_reward, epsilon_05_Q, epsilon_05_N = epsilon_greedy(0.05, time_steps, clickedAdsDf)\n",
    "epsilon_2_reward, epsilon_2_Q, epsilon_2_N = epsilon_greedy(0.2, time_steps, clickedAdsDf)\n",
    "\n",
    "print(f\"Epsilon-Greedy (ε=0.05, {time_steps} steps): Total Reward = {epsilon_05_reward}\")\n",
    "print(f\"Epsilon-Greedy (ε=0.2, {time_steps} steps): Total Reward = {epsilon_2_reward}\\n\")\n",
    "\n",
    "print(f\"Epsilon-Greedy (ε=0.05): Action Counts = {epsilon_05_N}\") \n",
    "print(f\"Epsilon-Greedy (ε=0.2): Action Counts = {epsilon_2_N}\")"
   ]
  },
  {
   "cell_type": "markdown",
   "id": "3962b58f-de89-4c9f-94c8-8f7489ad386b",
   "metadata": {},
   "source": [
    "### 4. Compare the effect of different ε values on total rewards and action selection."
   ]
  },
  {
   "cell_type": "markdown",
   "id": "6d7185c9-273d-4ab0-9047-291b00574a06",
   "metadata": {},
   "source": [
    "A lower **ε (0.05)** leads to more exploitation, resulting in a higher **total reward (1119)** by focusing on the best-performing ad (action 4, chosen 1578 times). A higher **ε (0.2)** increases exploration, leading to a lower **total reward (1066)** with more balanced action selection (action 8 chosen 1504 times).\n",
    "##### Thus, lower ε favors short-term gains, while higher ε allows better adaptation in dynamic environments."
   ]
  },
  {
   "cell_type": "markdown",
   "id": "8dadb62b-f12e-4b32-b20b-eb166da53480",
   "metadata": {},
   "source": [
    "### 5. Implement the UCB method with an exploration factor c = 2.0 and compute total rewards after 2000-time steps."
   ]
  },
  {
   "cell_type": "code",
   "execution_count": 8,
   "id": "bcf277b7-a62c-4f90-a37e-1a404e883990",
   "metadata": {},
   "outputs": [],
   "source": [
    "def ucb(c, time_steps, df):\n",
    "    Q = [0] * n_ads\n",
    "    N = [0] * n_ads\n",
    "    total_reward = 0\n",
    "\n",
    "    for t in range(time_steps):\n",
    "        ucb_values = [Q[a] + c * math.sqrt(math.log(t + 1) / (N[a] + 1e-6)) for a in range(n_ads)]\n",
    "\n",
    "        ad_index = ucb_values.index(max(ucb_values))\n",
    "        ad_indices = [i for i, value in enumerate(ucb_values) if value == ucb_values[ad_index]]\n",
    "        ad_index = random.choice(ad_indices)\n",
    "        chosen_category = ad_categories[ad_index]\n",
    "\n",
    "        category_rows = df[df['category'] == chosen_category]\n",
    "        if not category_rows.empty:\n",
    "            reward = category_rows['Clicked on Ad'].iloc[t % len(category_rows)]\n",
    "        else:\n",
    "            reward = 0 \n",
    "            print(f\"Warning: No data found for category {chosen_category}. Setting reward to 0.\")\n",
    "\n",
    "        # Update\n",
    "        N[ad_index] += 1\n",
    "        Q[ad_index] += (1 / N[ad_index]) * (reward - Q[ad_index])\n",
    "        total_reward += reward\n",
    "\n",
    "    return total_reward, Q, N"
   ]
  },
  {
   "cell_type": "code",
   "execution_count": 9,
   "id": "9cbee9d8-d432-4300-b001-e44bc7e3b2f9",
   "metadata": {},
   "outputs": [
    {
     "name": "stdout",
     "output_type": "stream",
     "text": [
      "UCB (c=2.0, 2000 steps): Total Reward = 1015\n",
      "UCB (c=2.0): Action Counts = [291, 189, 139, 183, 307, 139, 139, 148, 240, 225]\n"
     ]
    }
   ],
   "source": [
    "time_steps = 2000\n",
    "ucb_reward, ucb_Q, ucb_N = ucb(2.0, time_steps, clickedAdsDf)\n",
    "\n",
    "print(f\"UCB (c=2.0, {time_steps} steps): Total Reward = {ucb_reward}\")\n",
    "print(f\"UCB (c=2.0): Action Counts = {ucb_N}\")"
   ]
  },
  {
   "cell_type": "markdown",
   "id": "122a2e4f-5d95-435c-8996-d774eec11cfd",
   "metadata": {},
   "source": [
    "### 6. How does increasing or decreasing the exploration factor c affect the performance?"
   ]
  },
  {
   "cell_type": "code",
   "execution_count": 10,
   "id": "e6160ed8-2e82-4d77-822c-a822a10d8079",
   "metadata": {},
   "outputs": [
    {
     "name": "stdout",
     "output_type": "stream",
     "text": [
      "UCB (c=0.1, 2000 steps): Total Reward = 1011\n",
      "UCB (c=0.1): Action Counts = [3, 1, 1434, 1, 1, 1, 1, 1, 556, 1]\n",
      "\n",
      "UCB (c=0.25, 2000 steps): Total Reward = 1097\n",
      "UCB (c=0.25): Action Counts = [24, 86, 123, 68, 1622, 2, 12, 26, 30, 7]\n",
      "\n",
      "UCB (c=0.5, 2000 steps): Total Reward = 1060\n",
      "UCB (c=0.5): Action Counts = [149, 122, 57, 107, 1175, 33, 70, 16, 171, 100]\n",
      "\n",
      "UCB (c=1.0, 2000 steps): Total Reward = 1004\n",
      "UCB (c=1.0): Action Counts = [156, 200, 195, 151, 421, 89, 121, 70, 373, 224]\n",
      "\n",
      "UCB (c=3.0, 2000 steps): Total Reward = 992\n",
      "UCB (c=3.0): Action Counts = [218, 180, 215, 174, 262, 200, 190, 182, 210, 169]\n",
      "\n",
      "UCB (c=5.0, 2000 steps): Total Reward = 1039\n",
      "UCB (c=5.0): Action Counts = [234, 201, 193, 183, 239, 176, 179, 150, 253, 192]\n",
      "\n",
      "UCB (c=10.0, 2000 steps): Total Reward = 999\n",
      "UCB (c=10.0): Action Counts = [192, 202, 207, 211, 216, 189, 188, 182, 209, 204]\n",
      "\n"
     ]
    }
   ],
   "source": [
    "exploration_factors = [0.1, 0.25, 0.5, 1.0, 3.0, 5.0, 10.0]\n",
    "\n",
    "for c in exploration_factors:\n",
    "    ucb_reward, ucb_Q, ucb_N = ucb(c, time_steps, clickedAdsDf)\n",
    "    print(f\"UCB (c={c}, {time_steps} steps): Total Reward = {ucb_reward}\")\n",
    "    print(f\"UCB (c={c}): Action Counts = {ucb_N}\\n\")"
   ]
  },
  {
   "cell_type": "markdown",
   "id": "13b71a6b-7f3c-4330-98cd-70038fd6881f",
   "metadata": {},
   "source": [
    "Lower values of c **(e.g. c= 0.1, 0.25)** prioritize exploitation, leading to **higher total rewards** but heavily favoring a single ad category, while higher values **(e.g.,  c = 3.0 , 5.0 , 10.0)** encourage exploration, resulting in a more balanced selection but **slightly lower rewards.** The best trade-off appears around c = 0.1 to c = 1.0, where the algorithm still exploits high-reward ads while maintaining some exploration to avoid suboptimal choices."
   ]
  },
  {
   "cell_type": "markdown",
   "id": "e66627fc-f519-494c-882d-f74f46906e16",
   "metadata": {},
   "source": [
    "### 7. Analyze how the estimated action values (Q-values) compare to the actual optimal action in both ε-greedy and UCB methods"
   ]
  },
  {
   "cell_type": "code",
   "execution_count": 11,
   "id": "bdde826e-9471-45b7-b17f-7255d3674a8f",
   "metadata": {},
   "outputs": [
    {
     "data": {
      "text/html": [
       "<div>\n",
       "<style scoped>\n",
       "    .dataframe tbody tr th:only-of-type {\n",
       "        vertical-align: middle;\n",
       "    }\n",
       "\n",
       "    .dataframe tbody tr th {\n",
       "        vertical-align: top;\n",
       "    }\n",
       "\n",
       "    .dataframe thead th {\n",
       "        text-align: right;\n",
       "    }\n",
       "</style>\n",
       "<table border=\"1\" class=\"dataframe\">\n",
       "  <thead>\n",
       "    <tr style=\"text-align: right;\">\n",
       "      <th></th>\n",
       "      <th>True CTR</th>\n",
       "      <th>Epsilon-Greedy (ε=0.05)</th>\n",
       "      <th>Epsilon-Greedy (ε=0.2)</th>\n",
       "      <th>UCB (c=2.0)</th>\n",
       "    </tr>\n",
       "  </thead>\n",
       "  <tbody>\n",
       "    <tr>\n",
       "      <th>Furniture</th>\n",
       "      <td>0.459184</td>\n",
       "      <td>0.491228</td>\n",
       "      <td>0.295455</td>\n",
       "      <td>0.458333</td>\n",
       "    </tr>\n",
       "    <tr>\n",
       "      <th>Food</th>\n",
       "      <td>0.494949</td>\n",
       "      <td>0.513514</td>\n",
       "      <td>0.486486</td>\n",
       "      <td>0.504950</td>\n",
       "    </tr>\n",
       "    <tr>\n",
       "      <th>Electronic</th>\n",
       "      <td>0.494845</td>\n",
       "      <td>0.458333</td>\n",
       "      <td>0.546512</td>\n",
       "      <td>0.531401</td>\n",
       "    </tr>\n",
       "    <tr>\n",
       "      <th>House</th>\n",
       "      <td>0.522936</td>\n",
       "      <td>0.363636</td>\n",
       "      <td>0.547170</td>\n",
       "      <td>0.549763</td>\n",
       "    </tr>\n",
       "    <tr>\n",
       "      <th>Finance</th>\n",
       "      <td>0.571429</td>\n",
       "      <td>0.575383</td>\n",
       "      <td>0.500000</td>\n",
       "      <td>0.574074</td>\n",
       "    </tr>\n",
       "    <tr>\n",
       "      <th>Travel</th>\n",
       "      <td>0.479592</td>\n",
       "      <td>0.357143</td>\n",
       "      <td>0.510204</td>\n",
       "      <td>0.444444</td>\n",
       "    </tr>\n",
       "    <tr>\n",
       "      <th>Health</th>\n",
       "      <td>0.461538</td>\n",
       "      <td>0.476563</td>\n",
       "      <td>0.450000</td>\n",
       "      <td>0.436170</td>\n",
       "    </tr>\n",
       "    <tr>\n",
       "      <th>Bank</th>\n",
       "      <td>0.433333</td>\n",
       "      <td>0.500000</td>\n",
       "      <td>0.333333</td>\n",
       "      <td>0.406593</td>\n",
       "    </tr>\n",
       "    <tr>\n",
       "      <th>Fashion</th>\n",
       "      <td>0.549020</td>\n",
       "      <td>0.461538</td>\n",
       "      <td>0.550393</td>\n",
       "      <td>0.540670</td>\n",
       "    </tr>\n",
       "    <tr>\n",
       "      <th>Otomotif</th>\n",
       "      <td>0.526786</td>\n",
       "      <td>0.333333</td>\n",
       "      <td>0.488636</td>\n",
       "      <td>0.519608</td>\n",
       "    </tr>\n",
       "  </tbody>\n",
       "</table>\n",
       "</div>"
      ],
      "text/plain": [
       "            True CTR  Epsilon-Greedy (ε=0.05)  Epsilon-Greedy (ε=0.2)  \\\n",
       "Furniture   0.459184                 0.491228                0.295455   \n",
       "Food        0.494949                 0.513514                0.486486   \n",
       "Electronic  0.494845                 0.458333                0.546512   \n",
       "House       0.522936                 0.363636                0.547170   \n",
       "Finance     0.571429                 0.575383                0.500000   \n",
       "Travel      0.479592                 0.357143                0.510204   \n",
       "Health      0.461538                 0.476563                0.450000   \n",
       "Bank        0.433333                 0.500000                0.333333   \n",
       "Fashion     0.549020                 0.461538                0.550393   \n",
       "Otomotif    0.526786                 0.333333                0.488636   \n",
       "\n",
       "            UCB (c=2.0)  \n",
       "Furniture      0.458333  \n",
       "Food           0.504950  \n",
       "Electronic     0.531401  \n",
       "House          0.549763  \n",
       "Finance        0.574074  \n",
       "Travel         0.444444  \n",
       "Health         0.436170  \n",
       "Bank           0.406593  \n",
       "Fashion        0.540670  \n",
       "Otomotif       0.519608  "
      ]
     },
     "execution_count": 11,
     "metadata": {},
     "output_type": "execute_result"
    }
   ],
   "source": [
    "true_ctr = []\n",
    "for ad_category in ad_categories:\n",
    "    true_ctr.append(clickedAdsDf[clickedAdsDf['category'] == ad_category]['Clicked on Ad'].mean())\n",
    "\n",
    "results_df = pd.DataFrame({\n",
    "    \"True CTR\": true_ctr,\n",
    "    \"Epsilon-Greedy (ε=0.05)\": epsilon_05_Q,\n",
    "    \"Epsilon-Greedy (ε=0.2)\": epsilon_2_Q,\n",
    "    \"UCB (c=2.0)\": ucb_Q\n",
    "}, index=ad_categories)\n",
    "\n",
    "results_df"
   ]
  },
  {
   "cell_type": "markdown",
   "id": "02b7f91d-f02a-4d6c-bd99-a06d95ead710",
   "metadata": {},
   "source": [
    "### 8. Which approach leads to a better approximation of the optimal action?"
   ]
  },
  {
   "cell_type": "markdown",
   "id": "463e52a6-4809-491c-a946-93c1ac73ea5d",
   "metadata": {},
   "source": [
    "**UCB (c = 2.0) provides the best approximation** of the optimal action, as its Q-values are closest to the true CTR values across most categories. It balances exploration and exploitation effectively, preventing both excessive optimism (as seen in ε-greedy with low ϵ) and poor estimation due to insufficient exploration (as seen in ε-greedy with higher ϵ). While **ε-greedy (ϵ = 0.05) tends to overexploit** and miss optimal choices, and **ϵ = 0.2** explores more but still **struggles with accurate estimates**\n",
    "\n",
    "##### UCB consistently updates its action values based on a principled exploration strategy, leading to more reliable learning over time."
   ]
  },
  {
   "cell_type": "markdown",
   "id": "6c19975a-d5f6-420c-abbe-8d55e2b97109",
   "metadata": {},
   "source": [
    "### 9. Evaluate how the performance of ε-greedy and UCB changes when the time horizon is extended to 5000-time steps instead of 2000-time steps"
   ]
  },
  {
   "cell_type": "code",
   "execution_count": 12,
   "id": "1e6c1a2f-35d3-4f38-95d5-3b820532bbf1",
   "metadata": {},
   "outputs": [],
   "source": [
    "time_steps_5000 = 5000\n",
    "\n",
    "epsilon_05_reward_5000, epsilon_05_Q_5000, epsilon_05_N_5000 = epsilon_greedy(0.05, time_steps_5000, clickedAdsDf)\n",
    "epsilon_2_reward_5000, epsilon_2_Q_5000, epsilon_2_N_5000 = epsilon_greedy(0.2, time_steps_5000, clickedAdsDf)\n",
    "\n",
    "ucb_reward_5000, ucb_Q_5000, ucb_N_5000 = ucb(2.0, time_steps_5000, clickedAdsDf)"
   ]
  },
  {
   "cell_type": "code",
   "execution_count": 13,
   "id": "4a36f970-ba59-4ea7-b581-834dc0faebf7",
   "metadata": {},
   "outputs": [
    {
     "name": "stdout",
     "output_type": "stream",
     "text": [
      "Epsilon-Greedy (ε=0.05, 5000 steps): Total Reward = 2725\n",
      "Epsilon-Greedy (ε=0.05): Action Counts = [28, 205, 30, 31, 663, 16, 26, 35, 3940, 26]\n",
      "\n",
      "Epsilon-Greedy (ε=0.2, 5000 steps): Total Reward = 2658\n",
      "Epsilon-Greedy (ε=0.2): Action Counts = [110, 136, 123, 222, 155, 110, 125, 94, 3796, 129]\n",
      "\n",
      "UCB (c=2.0, 5000 steps): Total Reward = 2487\n",
      "UCB (c=2.0): Action Counts = [435, 460, 492, 375, 965, 431, 427, 360, 651, 404]\n",
      "\n"
     ]
    }
   ],
   "source": [
    "print(f\"Epsilon-Greedy (ε=0.05, {time_steps_5000} steps): Total Reward = {epsilon_05_reward_5000}\")\n",
    "print(f\"Epsilon-Greedy (ε=0.05): Action Counts = {epsilon_05_N_5000}\\n\")\n",
    "\n",
    "print(f\"Epsilon-Greedy (ε=0.2, {time_steps_5000} steps): Total Reward = {epsilon_2_reward_5000}\")\n",
    "print(f\"Epsilon-Greedy (ε=0.2): Action Counts = {epsilon_2_N_5000}\\n\")\n",
    "\n",
    "print(f\"UCB (c=2.0, {time_steps_5000} steps): Total Reward = {ucb_reward_5000}\")\n",
    "print(f\"UCB (c=2.0): Action Counts = {ucb_N_5000}\\n\")"
   ]
  },
  {
   "cell_type": "markdown",
   "id": "cd595d6e-6cd7-4325-8c3f-a926effc8ad0",
   "metadata": {},
   "source": [
    "### 10. Does a longer time horizon reduce the impact of exploration parameters (ε or c) on total rewards?"
   ]
  },
  {
   "cell_type": "markdown",
   "id": "e7e287d8-a76c-445c-b9bb-2166e38bfa1d",
   "metadata": {},
   "source": [
    "**Longer time horizon reduces the impact of exploration parameters** (ϵ or c) on total rewards. Initially, higher exploration (ε = 0.2, higher c) helps discover better actions, but as time progresses, the need for exploration diminishes because the algorithm has gathered sufficient information.\n",
    "\n",
    "##### This is evident in the results:\n",
    "    ε-Greedy (ε = 0.05) outperforms ε = 0.2 and UCB at 5000 steps because it quickly converges to the best ad and exploits it.\n",
    "    ε-Greedy (ε = 0.2) performs worse because it continues exploring more than necessary.\n",
    "    UCB (c = 2.0) underperforms compared to ε-Greedy (ε = 0.05), likely because it maintains exploration for too long.\n",
    "\n",
    "With a longer time horizon, less exploration is needed, and lower ε (or c) leads to better performance as exploitation dominates. Exploration is crucial in the early stages but has diminishing returns over time."
   ]
  },
  {
   "cell_type": "markdown",
   "id": "cec52812-a6f4-4dd3-9408-62a2e5464319",
   "metadata": {},
   "source": [
    "# DataSet 2\n",
    "\n",
    "##### ⚠️ Incorrect Dataset: 1000-Armed Bandit Problem  \n",
    "##### The dataset contains **1000 unique \"Ad Topic Line\" values**, meaning this is a **1000-armed multi-armed bandit problem**, not a 10-armed one."
   ]
  },
  {
   "cell_type": "code",
   "execution_count": 14,
   "id": "eb06c542-8b5e-4c30-a097-0ab71051e2b1",
   "metadata": {},
   "outputs": [
    {
     "data": {
      "text/html": [
       "<div>\n",
       "<style scoped>\n",
       "    .dataframe tbody tr th:only-of-type {\n",
       "        vertical-align: middle;\n",
       "    }\n",
       "\n",
       "    .dataframe tbody tr th {\n",
       "        vertical-align: top;\n",
       "    }\n",
       "\n",
       "    .dataframe thead th {\n",
       "        text-align: right;\n",
       "    }\n",
       "</style>\n",
       "<table border=\"1\" class=\"dataframe\">\n",
       "  <thead>\n",
       "    <tr style=\"text-align: right;\">\n",
       "      <th></th>\n",
       "      <th>Daily Time Spent on Site</th>\n",
       "      <th>Age</th>\n",
       "      <th>Area Income</th>\n",
       "      <th>Daily Internet Usage</th>\n",
       "      <th>Ad Topic Line</th>\n",
       "      <th>City</th>\n",
       "      <th>Male</th>\n",
       "      <th>Country</th>\n",
       "      <th>Timestamp</th>\n",
       "      <th>Clicked on Ad</th>\n",
       "    </tr>\n",
       "  </thead>\n",
       "  <tbody>\n",
       "    <tr>\n",
       "      <th>0</th>\n",
       "      <td>68.95</td>\n",
       "      <td>35</td>\n",
       "      <td>61833.90</td>\n",
       "      <td>256.09</td>\n",
       "      <td>Cloned 5thgeneration orchestration</td>\n",
       "      <td>Wrightburgh</td>\n",
       "      <td>0.0</td>\n",
       "      <td>Tunisia</td>\n",
       "      <td>3/27/2016 0:53</td>\n",
       "      <td>0</td>\n",
       "    </tr>\n",
       "    <tr>\n",
       "      <th>1</th>\n",
       "      <td>80.23</td>\n",
       "      <td>31</td>\n",
       "      <td>68441.85</td>\n",
       "      <td>193.77</td>\n",
       "      <td>Monitored national standardization</td>\n",
       "      <td>West Jodi</td>\n",
       "      <td>1.0</td>\n",
       "      <td>Nauru</td>\n",
       "      <td>4/4/2016 1:39</td>\n",
       "      <td>0</td>\n",
       "    </tr>\n",
       "    <tr>\n",
       "      <th>2</th>\n",
       "      <td>69.47</td>\n",
       "      <td>26</td>\n",
       "      <td>59785.94</td>\n",
       "      <td>236.50</td>\n",
       "      <td>Organic bottom-line service-desk</td>\n",
       "      <td>Davidton</td>\n",
       "      <td>0.0</td>\n",
       "      <td>San Marino</td>\n",
       "      <td>3/13/2016 20:35</td>\n",
       "      <td>0</td>\n",
       "    </tr>\n",
       "    <tr>\n",
       "      <th>3</th>\n",
       "      <td>74.15</td>\n",
       "      <td>29</td>\n",
       "      <td>54806.18</td>\n",
       "      <td>245.89</td>\n",
       "      <td>Triple-buffered reciprocal time-frame</td>\n",
       "      <td>West Terrifurt</td>\n",
       "      <td>1.0</td>\n",
       "      <td>Italy</td>\n",
       "      <td>1/10/2016 2:31</td>\n",
       "      <td>0</td>\n",
       "    </tr>\n",
       "    <tr>\n",
       "      <th>4</th>\n",
       "      <td>68.37</td>\n",
       "      <td>35</td>\n",
       "      <td>73889.99</td>\n",
       "      <td>225.58</td>\n",
       "      <td>Robust logistical utilization</td>\n",
       "      <td>South Manuel</td>\n",
       "      <td>0.0</td>\n",
       "      <td>Iceland</td>\n",
       "      <td>6/3/2016 3:36</td>\n",
       "      <td>0</td>\n",
       "    </tr>\n",
       "  </tbody>\n",
       "</table>\n",
       "</div>"
      ],
      "text/plain": [
       "   Daily Time Spent on Site  Age  Area Income  Daily Internet Usage  \\\n",
       "0                     68.95   35     61833.90                256.09   \n",
       "1                     80.23   31     68441.85                193.77   \n",
       "2                     69.47   26     59785.94                236.50   \n",
       "3                     74.15   29     54806.18                245.89   \n",
       "4                     68.37   35     73889.99                225.58   \n",
       "\n",
       "                           Ad Topic Line            City  Male     Country  \\\n",
       "0     Cloned 5thgeneration orchestration     Wrightburgh   0.0     Tunisia   \n",
       "1     Monitored national standardization       West Jodi   1.0       Nauru   \n",
       "2       Organic bottom-line service-desk        Davidton   0.0  San Marino   \n",
       "3  Triple-buffered reciprocal time-frame  West Terrifurt   1.0       Italy   \n",
       "4          Robust logistical utilization    South Manuel   0.0     Iceland   \n",
       "\n",
       "         Timestamp  Clicked on Ad  \n",
       "0   3/27/2016 0:53              0  \n",
       "1    4/4/2016 1:39              0  \n",
       "2  3/13/2016 20:35              0  \n",
       "3   1/10/2016 2:31              0  \n",
       "4    6/3/2016 3:36              0  "
      ]
     },
     "execution_count": 14,
     "metadata": {},
     "output_type": "execute_result"
    }
   ],
   "source": [
    "AdsDf = pd.read_csv(\"Ad Click Data.csv\")\n",
    "\n",
    "AdsDf.head()"
   ]
  },
  {
   "cell_type": "code",
   "execution_count": 15,
   "id": "b5888d4c-1b3d-401a-97b8-1adcfad3450b",
   "metadata": {},
   "outputs": [
    {
     "data": {
      "text/plain": [
       "Daily Time Spent on Site    13\n",
       "Age                          0\n",
       "Area Income                 13\n",
       "Daily Internet Usage        11\n",
       "Ad Topic Line                0\n",
       "City                         1\n",
       "Male                         3\n",
       "Country                      9\n",
       "Timestamp                    0\n",
       "Clicked on Ad                0\n",
       "dtype: int64"
      ]
     },
     "execution_count": 15,
     "metadata": {},
     "output_type": "execute_result"
    }
   ],
   "source": [
    "AdsDf.isnull().sum()"
   ]
  },
  {
   "cell_type": "code",
   "execution_count": 16,
   "id": "2255f2d3-06e9-4ea6-be0d-0b601bd1e740",
   "metadata": {},
   "outputs": [],
   "source": [
    "AdsDf['Daily Time Spent on Site'] = AdsDf['Daily Time Spent on Site'].fillna(AdsDf['Daily Time Spent on Site'].mean())\n",
    "AdsDf['Area Income'] = AdsDf['Area Income'].fillna(AdsDf['Area Income'].mean())\n",
    "AdsDf['Daily Internet Usage'] = AdsDf['Daily Internet Usage'].fillna(AdsDf['Daily Internet Usage'].mean())\n",
    "\n",
    "AdsDf['City'] = AdsDf['City'].fillna(AdsDf['City'].mode()[0])\n",
    "AdsDf['Male'] = AdsDf['Male'].fillna(AdsDf['Male'].mode()[0])\n",
    "AdsDf['Country'] = AdsDf['Country'].fillna(AdsDf['Country'].mode()[0])"
   ]
  },
  {
   "cell_type": "code",
   "execution_count": 17,
   "id": "7591c5c5-4dfc-42d3-90b1-146984e27493",
   "metadata": {},
   "outputs": [
    {
     "name": "stdout",
     "output_type": "stream",
     "text": [
      "Identified 1000 ad categories\n"
     ]
    }
   ],
   "source": [
    "ad_categories = AdsDf['Ad Topic Line'].unique().tolist()\n",
    "n_ads = len(ad_categories)\n",
    "print(f\"Identified {n_ads} ad categories\")\n",
    "# print({ad_categories}) // too big to print"
   ]
  },
  {
   "cell_type": "code",
   "execution_count": 18,
   "id": "1fb7c134-20db-4d70-b14a-65f1a0fd6bd5",
   "metadata": {},
   "outputs": [],
   "source": [
    "def epsilon_greedy(epsilon, time_steps, df):\n",
    "    Q = [0] * n_ads\n",
    "    N = [0] * n_ads \n",
    "    total_reward = 0\n",
    "\n",
    "    for t in range(time_steps):\n",
    "        if random.random() < epsilon:\n",
    "            ad_index = random.randint(0, n_ads - 1)\n",
    "            chosen_category = ad_categories[ad_index]\n",
    "        else:\n",
    "            ad_index = Q.index(max(Q))\n",
    "            ad_indices = [i for i, value in enumerate(Q) if value == Q[ad_index]]\n",
    "            ad_index = random.choice(ad_indices)\n",
    "            chosen_category = ad_categories[ad_index]\n",
    "\n",
    "        category_rows = df[df['Ad Topic Line'] == chosen_category]\n",
    "        if not category_rows.empty:\n",
    "            reward = category_rows['Clicked on Ad'].iloc[t % len(category_rows)]\n",
    "        else:\n",
    "            reward = 0 \n",
    "            print(f\"Warning: No data found for category {chosen_category}.  Setting reward to 0.\")\n",
    "\n",
    "        N[ad_index] += 1\n",
    "        Q[ad_index] += (1 / N[ad_index]) * (reward - Q[ad_index])\n",
    "        total_reward += reward\n",
    "\n",
    "    return total_reward, Q, N"
   ]
  },
  {
   "cell_type": "code",
   "execution_count": 19,
   "id": "0a282cbf-11f1-42b8-8342-dc1487f2e39e",
   "metadata": {},
   "outputs": [
    {
     "name": "stdout",
     "output_type": "stream",
     "text": [
      "Epsilon-Greedy (ε=0.05, 2000 steps): Total Reward = 1952\n",
      "Epsilon-Greedy (ε=0.2, 2000 steps): Total Reward = 1808\n",
      "\n"
     ]
    }
   ],
   "source": [
    "time_steps = 2000\n",
    "epsilon_05_reward, epsilon_05_Q, epsilon_05_N = epsilon_greedy(0.05, time_steps, AdsDf)\n",
    "epsilon_2_reward, epsilon_2_Q, epsilon_2_N = epsilon_greedy(0.2, time_steps, AdsDf)\n",
    "\n",
    "print(f\"Epsilon-Greedy (ε=0.05, {time_steps} steps): Total Reward = {epsilon_05_reward}\")\n",
    "print(f\"Epsilon-Greedy (ε=0.2, {time_steps} steps): Total Reward = {epsilon_2_reward}\\n\")\n",
    "\n",
    "# print(f\"Epsilon-Greedy (ε=0.05): Action Counts = {epsilon_05_N}\") // too big to print\n",
    "# print(f\"Epsilon-Greedy (ε=0.2): Action Counts = {epsilon_2_N}\") // too big to print"
   ]
  },
  {
   "cell_type": "code",
   "execution_count": 20,
   "id": "9e9ea2f2-0e55-437a-9a30-d711eb034f59",
   "metadata": {},
   "outputs": [],
   "source": [
    "def ucb(c, time_steps, df):\n",
    "    Q = [0] * n_ads\n",
    "    N = [0] * n_ads\n",
    "    total_reward = 0\n",
    "\n",
    "    for t in range(time_steps):\n",
    "        ucb_values = [Q[a] + c * math.sqrt(math.log(t + 1) / (N[a] + 1e-6)) for a in range(n_ads)]\n",
    "\n",
    "        ad_index = ucb_values.index(max(ucb_values))\n",
    "        ad_indices = [i for i, value in enumerate(ucb_values) if value == ucb_values[ad_index]]\n",
    "        ad_index = random.choice(ad_indices)\n",
    "        chosen_category = ad_categories[ad_index]\n",
    "\n",
    "        category_rows = df[df['Ad Topic Line'] == chosen_category]\n",
    "        if not category_rows.empty:\n",
    "            reward = category_rows['Clicked on Ad'].iloc[t % len(category_rows)]\n",
    "        else:\n",
    "            reward = 0 \n",
    "            print(f\"Warning: No data found for category {chosen_category}. Setting reward to 0.\")\n",
    "\n",
    "        # Update\n",
    "        N[ad_index] += 1\n",
    "        Q[ad_index] += (1 / N[ad_index]) * (reward - Q[ad_index])\n",
    "        total_reward += reward\n",
    "\n",
    "    return total_reward, Q, N"
   ]
  },
  {
   "cell_type": "code",
   "execution_count": 21,
   "id": "d2d1b883-5dd9-4646-b9f1-9100022394c6",
   "metadata": {},
   "outputs": [
    {
     "name": "stdout",
     "output_type": "stream",
     "text": [
      "UCB (c=2.0, 2000 steps): Total Reward = 1000\n"
     ]
    }
   ],
   "source": [
    "time_steps = 2000\n",
    "ucb_reward, ucb_Q, ucb_N = ucb(2.0, time_steps, AdsDf)\n",
    "\n",
    "print(f\"UCB (c=2.0, {time_steps} steps): Total Reward = {ucb_reward}\")\n",
    "# print(f\"UCB (c=2.0): Action Counts = {ucb_N}\") // too big to print"
   ]
  },
  {
   "cell_type": "code",
   "execution_count": 22,
   "id": "c53175fb-2395-4a56-8c6b-42d87d6d1988",
   "metadata": {},
   "outputs": [
    {
     "name": "stdout",
     "output_type": "stream",
     "text": [
      "UCB (c=0.1, 2000 steps): Total Reward = 1500\n",
      "UCB (c=0.25, 2000 steps): Total Reward = 1500\n",
      "UCB (c=0.5, 2000 steps): Total Reward = 1500\n",
      "UCB (c=1.0, 2000 steps): Total Reward = 1500\n",
      "UCB (c=3.0, 2000 steps): Total Reward = 1000\n",
      "UCB (c=5.0, 2000 steps): Total Reward = 1000\n",
      "UCB (c=10.0, 2000 steps): Total Reward = 1000\n"
     ]
    }
   ],
   "source": [
    "exploration_factors = [0.1, 0.25, 0.5, 1.0, 3.0, 5.0, 10.0]\n",
    "\n",
    "for c in exploration_factors:\n",
    "    ucb_reward, ucb_Q, ucb_N = ucb(c, time_steps, AdsDf)\n",
    "    print(f\"UCB (c={c}, {time_steps} steps): Total Reward = {ucb_reward}\")\n",
    "    # print(f\"UCB (c={c}): Action Counts = {ucb_N}\\n\") // too big to print"
   ]
  },
  {
   "cell_type": "code",
   "execution_count": 23,
   "id": "21244645-11bb-4176-8710-f12dc3eefaf6",
   "metadata": {},
   "outputs": [
    {
     "data": {
      "text/html": [
       "<div>\n",
       "<style scoped>\n",
       "    .dataframe tbody tr th:only-of-type {\n",
       "        vertical-align: middle;\n",
       "    }\n",
       "\n",
       "    .dataframe tbody tr th {\n",
       "        vertical-align: top;\n",
       "    }\n",
       "\n",
       "    .dataframe thead th {\n",
       "        text-align: right;\n",
       "    }\n",
       "</style>\n",
       "<table border=\"1\" class=\"dataframe\">\n",
       "  <thead>\n",
       "    <tr style=\"text-align: right;\">\n",
       "      <th></th>\n",
       "      <th>True CTR</th>\n",
       "      <th>Epsilon-Greedy (ε=0.05)</th>\n",
       "      <th>Epsilon-Greedy (ε=0.2)</th>\n",
       "      <th>UCB (c=2.0)</th>\n",
       "    </tr>\n",
       "  </thead>\n",
       "  <tbody>\n",
       "    <tr>\n",
       "      <th>Cloned 5thgeneration orchestration</th>\n",
       "      <td>0.0</td>\n",
       "      <td>0.0</td>\n",
       "      <td>0.0</td>\n",
       "      <td>0.0</td>\n",
       "    </tr>\n",
       "    <tr>\n",
       "      <th>Monitored national standardization</th>\n",
       "      <td>0.0</td>\n",
       "      <td>0.0</td>\n",
       "      <td>0.0</td>\n",
       "      <td>0.0</td>\n",
       "    </tr>\n",
       "    <tr>\n",
       "      <th>Organic bottom-line service-desk</th>\n",
       "      <td>0.0</td>\n",
       "      <td>0.0</td>\n",
       "      <td>0.0</td>\n",
       "      <td>0.0</td>\n",
       "    </tr>\n",
       "    <tr>\n",
       "      <th>Triple-buffered reciprocal time-frame</th>\n",
       "      <td>0.0</td>\n",
       "      <td>0.0</td>\n",
       "      <td>0.0</td>\n",
       "      <td>0.0</td>\n",
       "    </tr>\n",
       "    <tr>\n",
       "      <th>Robust logistical utilization</th>\n",
       "      <td>0.0</td>\n",
       "      <td>0.0</td>\n",
       "      <td>0.0</td>\n",
       "      <td>0.0</td>\n",
       "    </tr>\n",
       "    <tr>\n",
       "      <th>...</th>\n",
       "      <td>...</td>\n",
       "      <td>...</td>\n",
       "      <td>...</td>\n",
       "      <td>...</td>\n",
       "    </tr>\n",
       "    <tr>\n",
       "      <th>Fundamental modular algorithm</th>\n",
       "      <td>1.0</td>\n",
       "      <td>0.0</td>\n",
       "      <td>0.0</td>\n",
       "      <td>1.0</td>\n",
       "    </tr>\n",
       "    <tr>\n",
       "      <th>Grass-roots cohesive monitoring</th>\n",
       "      <td>1.0</td>\n",
       "      <td>0.0</td>\n",
       "      <td>0.0</td>\n",
       "      <td>1.0</td>\n",
       "    </tr>\n",
       "    <tr>\n",
       "      <th>Expanded intangible solution</th>\n",
       "      <td>1.0</td>\n",
       "      <td>1.0</td>\n",
       "      <td>1.0</td>\n",
       "      <td>1.0</td>\n",
       "    </tr>\n",
       "    <tr>\n",
       "      <th>Proactive bandwidth-monitored policy</th>\n",
       "      <td>0.0</td>\n",
       "      <td>0.0</td>\n",
       "      <td>0.0</td>\n",
       "      <td>0.0</td>\n",
       "    </tr>\n",
       "    <tr>\n",
       "      <th>Virtual 5thgeneration emulation</th>\n",
       "      <td>1.0</td>\n",
       "      <td>0.0</td>\n",
       "      <td>1.0</td>\n",
       "      <td>1.0</td>\n",
       "    </tr>\n",
       "  </tbody>\n",
       "</table>\n",
       "<p>1000 rows × 4 columns</p>\n",
       "</div>"
      ],
      "text/plain": [
       "                                       True CTR  Epsilon-Greedy (ε=0.05)  \\\n",
       "Cloned 5thgeneration orchestration          0.0                      0.0   \n",
       "Monitored national standardization          0.0                      0.0   \n",
       "Organic bottom-line service-desk            0.0                      0.0   \n",
       "Triple-buffered reciprocal time-frame       0.0                      0.0   \n",
       "Robust logistical utilization               0.0                      0.0   \n",
       "...                                         ...                      ...   \n",
       "Fundamental modular algorithm               1.0                      0.0   \n",
       "Grass-roots cohesive monitoring             1.0                      0.0   \n",
       "Expanded intangible solution                1.0                      1.0   \n",
       "Proactive bandwidth-monitored policy        0.0                      0.0   \n",
       "Virtual 5thgeneration emulation             1.0                      0.0   \n",
       "\n",
       "                                       Epsilon-Greedy (ε=0.2)  UCB (c=2.0)  \n",
       "Cloned 5thgeneration orchestration                        0.0          0.0  \n",
       "Monitored national standardization                        0.0          0.0  \n",
       "Organic bottom-line service-desk                          0.0          0.0  \n",
       "Triple-buffered reciprocal time-frame                     0.0          0.0  \n",
       "Robust logistical utilization                             0.0          0.0  \n",
       "...                                                       ...          ...  \n",
       "Fundamental modular algorithm                             0.0          1.0  \n",
       "Grass-roots cohesive monitoring                           0.0          1.0  \n",
       "Expanded intangible solution                              1.0          1.0  \n",
       "Proactive bandwidth-monitored policy                      0.0          0.0  \n",
       "Virtual 5thgeneration emulation                           1.0          1.0  \n",
       "\n",
       "[1000 rows x 4 columns]"
      ]
     },
     "execution_count": 23,
     "metadata": {},
     "output_type": "execute_result"
    }
   ],
   "source": [
    "true_ctr = []\n",
    "for ad_category in ad_categories:\n",
    "    true_ctr.append(AdsDf[AdsDf['Ad Topic Line'] == ad_category]['Clicked on Ad'].mean())\n",
    "\n",
    "results_df = pd.DataFrame({\n",
    "    \"True CTR\": true_ctr,\n",
    "    \"Epsilon-Greedy (ε=0.05)\": epsilon_05_Q,\n",
    "    \"Epsilon-Greedy (ε=0.2)\": epsilon_2_Q,\n",
    "    \"UCB (c=2.0)\": ucb_Q\n",
    "}, index=ad_categories)\n",
    "\n",
    "results_df"
   ]
  },
  {
   "cell_type": "code",
   "execution_count": 24,
   "id": "5323cacc-c7a9-48f6-b37e-07502a6f8311",
   "metadata": {},
   "outputs": [],
   "source": [
    "time_steps_5000 = 5000\n",
    "\n",
    "epsilon_05_reward_5000, epsilon_05_Q_5000, epsilon_05_N_5000 = epsilon_greedy(0.05, time_steps_5000, AdsDf)\n",
    "epsilon_2_reward_5000, epsilon_2_Q_5000, epsilon_2_N_5000 = epsilon_greedy(0.2, time_steps_5000, AdsDf)\n",
    "\n",
    "ucb_reward_5000, ucb_Q_5000, ucb_N_5000 = ucb(2.0, time_steps_5000, AdsDf)"
   ]
  },
  {
   "cell_type": "code",
   "execution_count": 25,
   "id": "8f2479f9-ff7b-45b8-b802-a9ea2d7559b6",
   "metadata": {},
   "outputs": [
    {
     "name": "stdout",
     "output_type": "stream",
     "text": [
      "Epsilon-Greedy (ε=0.05, 5000 steps): Total Reward = 4879\n",
      "Epsilon-Greedy (ε=0.2, 5000 steps): Total Reward = 4486\n",
      "UCB (c=2.0, 5000 steps): Total Reward = 3500\n"
     ]
    }
   ],
   "source": [
    "print(f\"Epsilon-Greedy (ε=0.05, {time_steps_5000} steps): Total Reward = {epsilon_05_reward_5000}\")\n",
    "# print(f\"Epsilon-Greedy (ε=0.05): Action Counts = {epsilon_05_N_5000}\\n\") // too big to print\n",
    "\n",
    "print(f\"Epsilon-Greedy (ε=0.2, {time_steps_5000} steps): Total Reward = {epsilon_2_reward_5000}\")\n",
    "# print(f\"Epsilon-Greedy (ε=0.2): Action Counts = {epsilon_2_N_5000}\\n\") // too big to print\n",
    "\n",
    "print(f\"UCB (c=2.0, {time_steps_5000} steps): Total Reward = {ucb_reward_5000}\")\n",
    "# print(f\"UCB (c=2.0): Action Counts = {ucb_N_5000}\\n\") // too big to print"
   ]
  }
 ],
 "metadata": {
  "kernelspec": {
   "display_name": "Python 3 (ipykernel)",
   "language": "python",
   "name": "python3"
  },
  "language_info": {
   "codemirror_mode": {
    "name": "ipython",
    "version": 3
   },
   "file_extension": ".py",
   "mimetype": "text/x-python",
   "name": "python",
   "nbconvert_exporter": "python",
   "pygments_lexer": "ipython3",
   "version": "3.12.1"
  }
 },
 "nbformat": 4,
 "nbformat_minor": 5
}
