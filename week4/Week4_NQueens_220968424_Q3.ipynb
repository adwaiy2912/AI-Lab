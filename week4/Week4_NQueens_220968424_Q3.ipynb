{
 "cells": [
  {
   "cell_type": "markdown",
   "id": "cac92642",
   "metadata": {},
   "source": [
    "## Name : Adwaiy Singh\n",
    "## Reg. No. : 220968424\n",
    "## Sec. : A\n",
    "## Batch: 2\n",
    "## WEEK 4"
   ]
  },
  {
   "cell_type": "markdown",
   "id": "b0f35831",
   "metadata": {},
   "source": [
    "# Question 3\n",
    "\n",
    "## N-Queens Problem Using Local Search Methods\n",
    "\n",
    "The N-Queens Problem is a classical constraint satisfaction problem where the goal is to place N queens on an N×N chessboard such that no two queens attack each other. This means:\n",
    "\n",
    "    • No two queens can be in the same row. \n",
    "    • No two queens can be in the same column. \n",
    "    • No two queens can be on the same diagonal.\n",
    "    \n",
    "In this exercise, we will solve the N-Queens Problem using three Hill Climbing variants:\n",
    "\n",
    "    1. Simple Hill Climbing – Moves to a better neighboring state if one exists, stopping at local optima. \n",
    "    2. Stochastic Hill Climbing – Chooses a random better move instead of always picking the best one. \n",
    "    3. Steepest Ascent Hill Climbing – Evaluates all possible moves and chooses the best improvement."
   ]
  },
  {
   "cell_type": "markdown",
   "id": "55c311a9",
   "metadata": {},
   "source": [
    "## Tasks to Perform \n",
    "### For N = 4, 8, 16, 32, 64, perform the following:"
   ]
  },
  {
   "cell_type": "markdown",
   "id": "0929c653",
   "metadata": {},
   "source": [
    "### 1. Generate an Initial Board:\n",
    "### Start with a random configuration where some queens may be attacking each other. "
   ]
  },
  {
   "cell_type": "code",
   "execution_count": 7,
   "id": "ea47aa3f",
   "metadata": {},
   "outputs": [],
   "source": [
    "import random\n",
    "import time\n",
    "import pandas as pd\n",
    "import matplotlib.pyplot as plt\n",
    "import numpy as np"
   ]
  },
  {
   "cell_type": "code",
   "execution_count": 8,
   "id": "02e7c1f7",
   "metadata": {},
   "outputs": [],
   "source": [
    "def generate_initial_board(N):\n",
    "    return random.sample(range(N), N)"
   ]
  },
  {
   "cell_type": "code",
   "execution_count": 9,
   "id": "836b1a19",
   "metadata": {},
   "outputs": [
    {
     "name": "stdout",
     "output_type": "stream",
     "text": [
      "Initial Board for N: [2, 5, 3, 1, 6, 7, 4, 0]\n"
     ]
    }
   ],
   "source": [
    "N = 8\n",
    "\n",
    "initial_board = generate_initial_board(N)\n",
    "print(\"Initial Board for N:\", initial_board)"
   ]
  },
  {
   "cell_type": "markdown",
   "id": "a062ce76",
   "metadata": {},
   "source": [
    "### 2. Apply Each Hill Climbing Algorithm: \n",
    "    o Implement Simple Hill Climbing, Stochastic Hill Climbing, and Steepest Ascent Hill Climbing. \n",
    "    o Track the number of iterations taken to find a valid solution (or detect failure due to local optima). \n",
    "    o Compare performance across different values of N. \n",
    "    o Add, additional performance metrics such as the number of iterations. "
   ]
  },
  {
   "cell_type": "code",
   "execution_count": 10,
   "id": "2488d1ac",
   "metadata": {},
   "outputs": [],
   "source": [
    "def calculate_conflicts(board):\n",
    "    conflicts = 0\n",
    "    N = len(board)\n",
    "    for i in range(N):\n",
    "        for j in range(i + 1, N):\n",
    "            if abs(board[i] - board[j]) == abs(i - j):  \n",
    "                conflicts += 1\n",
    "    return conflicts"
   ]
  },
  {
   "cell_type": "code",
   "execution_count": 11,
   "id": "3537a236-3e9c-4223-a680-388faf09ced7",
   "metadata": {},
   "outputs": [
    {
     "data": {
      "text/plain": [
       "1"
      ]
     },
     "execution_count": 11,
     "metadata": {},
     "output_type": "execute_result"
    }
   ],
   "source": [
    "calculate_conflicts(np.array([0,1,9,12]))"
   ]
  },
  {
   "cell_type": "code",
   "execution_count": 5,
   "id": "6ba760b1",
   "metadata": {},
   "outputs": [],
   "source": [
    "def simple_hill_climbing(N, max_iterations=1000):\n",
    "    board = generate_initial_board(N)\n",
    "    iterations = 0\n",
    "    while calculate_conflicts(board) > 0 and iterations < max_iterations:\n",
    "        iterations += 1\n",
    "        neighbors = []\n",
    "        for col in range(N):\n",
    "            for row in range(N):\n",
    "                if row != board[col]:\n",
    "                    neighbor = board[:]\n",
    "                    neighbor[col] = row\n",
    "                    neighbors.append(neighbor)\n",
    "        best_neighbor = min(neighbors, key=calculate_conflicts)\n",
    "        \n",
    "        if calculate_conflicts(best_neighbor) >= calculate_conflicts(board):\n",
    "            print(f\"Stuck at local optima after {iterations} iterations\")\n",
    "            return board, iterations, True  \n",
    "        \n",
    "        board = best_neighbor\n",
    "\n",
    "    return board, iterations, False  "
   ]
  },
  {
   "cell_type": "code",
   "execution_count": 6,
   "id": "4de6d4cd",
   "metadata": {},
   "outputs": [],
   "source": [
    "def stochastic_hill_climbing(N, max_iterations=1000):\n",
    "    board = generate_initial_board(N)\n",
    "    iterations = 0\n",
    "    while calculate_conflicts(board) > 0 and iterations < max_iterations:\n",
    "        iterations += 1\n",
    "        neighbors = []\n",
    "        for col in range(N):\n",
    "            for row in range(N):\n",
    "                if row != board[col]:\n",
    "                    neighbor = board[:]\n",
    "                    neighbor[col] = row\n",
    "                    neighbors.append(neighbor)\n",
    "        \n",
    "        improving_neighbors = [neighbor for neighbor in neighbors if calculate_conflicts(neighbor) < calculate_conflicts(board)]\n",
    "        \n",
    "        if not improving_neighbors:\n",
    "            print(f\"Stuck at local optima after {iterations} iterations\")\n",
    "            return board, iterations, True \n",
    "        \n",
    "        board = random.choice(improving_neighbors)\n",
    "\n",
    "    return board, iterations, False  "
   ]
  },
  {
   "cell_type": "code",
   "execution_count": 7,
   "id": "24e8efe5",
   "metadata": {},
   "outputs": [],
   "source": [
    "def steepest_ascent_hill_climbing(N, max_iterations=1000):\n",
    "    board = generate_initial_board(N)\n",
    "    iterations = 0\n",
    "    while calculate_conflicts(board) > 0 and iterations < max_iterations:\n",
    "        iterations += 1\n",
    "        neighbors = []\n",
    "        for col in range(N):\n",
    "            for row in range(N):\n",
    "                if row != board[col]:\n",
    "                    neighbor = board[:]\n",
    "                    neighbor[col] = row\n",
    "                    neighbors.append(neighbor)\n",
    "        \n",
    "        best_neighbor = min(neighbors, key=calculate_conflicts)\n",
    "        \n",
    "        if calculate_conflicts(best_neighbor) >= calculate_conflicts(board):\n",
    "            print(f\"Stuck at local optima after {iterations} iterations\")\n",
    "            return board, iterations, True  \n",
    "        \n",
    "        board = best_neighbor\n",
    "\n",
    "    return board, iterations, False "
   ]
  },
  {
   "cell_type": "code",
   "execution_count": 8,
   "id": "fc4d743b",
   "metadata": {},
   "outputs": [
    {
     "name": "stdout",
     "output_type": "stream",
     "text": [
      "Simple Hill Climbing Solution for N=8: [1, 3, 1, 6, 1, 5, 0, 5], Iterations: 3\n"
     ]
    }
   ],
   "source": [
    "solution_simple, iterations_simple, failed_simple = simple_hill_climbing(N)\n",
    "\n",
    "print(f\"Simple Hill Climbing Solution for N={N}: {solution_simple}, Iterations: {iterations_simple}\")\n",
    "if failed_simple:\n",
    "    print(\"Failed due to local optima.\")"
   ]
  },
  {
   "cell_type": "code",
   "execution_count": 9,
   "id": "934c3233",
   "metadata": {},
   "outputs": [
    {
     "name": "stdout",
     "output_type": "stream",
     "text": [
      "Stochastic Hill Climbing Solution for N=8: [7, 4, 6, 3, 0, 6, 3, 5], Iterations: 6\n"
     ]
    }
   ],
   "source": [
    "solution_stochastic, iterations_stochastic, failed_stochastic = stochastic_hill_climbing(N)\n",
    "\n",
    "print(f\"Stochastic Hill Climbing Solution for N={N}: {solution_stochastic}, Iterations: {iterations_stochastic}\")\n",
    "if failed_stochastic:\n",
    "    print(\"Failed due to local optima.\")"
   ]
  },
  {
   "cell_type": "code",
   "execution_count": 10,
   "id": "370964f1",
   "metadata": {},
   "outputs": [
    {
     "name": "stdout",
     "output_type": "stream",
     "text": [
      "Steepest Ascent Hill Climbing Solution for N=8: [4, 1, 7, 0, 3, 6, 0, 5], Iterations: 2\n"
     ]
    }
   ],
   "source": [
    "solution_steepest, iterations_steepest, failed_steepest = steepest_ascent_hill_climbing(N)\n",
    "\n",
    "print(f\"Steepest Ascent Hill Climbing Solution for N={N}: {solution_steepest}, Iterations: {iterations_steepest}\")\n",
    "if failed_steepest:\n",
    "    print(\"Failed due to local optima.\")"
   ]
  },
  {
   "cell_type": "code",
   "execution_count": 11,
   "id": "f4feb6c6",
   "metadata": {},
   "outputs": [],
   "source": [
    "def run_experiment(N):\n",
    "    start_time = time.time()\n",
    "    solution_simple, iterations_simple, failed_simple = simple_hill_climbing(N)\n",
    "    time_simple = time.time() - start_time\n",
    "\n",
    "    start_time = time.time()\n",
    "    solution_stochastic, iterations_stochastic, failed_stochastic = stochastic_hill_climbing(N)\n",
    "    time_stochastic = time.time() - start_time\n",
    "\n",
    "    start_time = time.time()\n",
    "    solution_steepest, iterations_steepest, failed_steepest = steepest_ascent_hill_climbing(N)\n",
    "    time_steepest = time.time() - start_time\n",
    "\n",
    "    return {\n",
    "        'N': N,\n",
    "        'Simple Iterations': iterations_simple,\n",
    "        'Stochastic Iterations': iterations_stochastic,\n",
    "        'Steepest Iterations': iterations_steepest,\n",
    "        'Simple Time': time_simple,\n",
    "        'Stochastic Time': time_stochastic,\n",
    "        'Steepest Time': time_steepest,\n",
    "        'Simple Failed': failed_simple,\n",
    "        'Stochastic Failed': failed_stochastic,\n",
    "        'Steepest Failed': failed_steepest,\n",
    "    }"
   ]
  },
  {
   "cell_type": "code",
   "execution_count": 14,
   "id": "6a2bfd52",
   "metadata": {},
   "outputs": [],
   "source": [
    "results = []\n",
    "for N in [4, 8, 16, 32, 64]:\n",
    "    results.append(run_experiment(N))\n",
    "\n",
    "df = pd.DataFrame(results)"
   ]
  },
  {
   "cell_type": "code",
   "execution_count": 15,
   "id": "df6e0ef9",
   "metadata": {},
   "outputs": [
    {
     "data": {
      "text/html": [
       "<div>\n",
       "<style scoped>\n",
       "    .dataframe tbody tr th:only-of-type {\n",
       "        vertical-align: middle;\n",
       "    }\n",
       "\n",
       "    .dataframe tbody tr th {\n",
       "        vertical-align: top;\n",
       "    }\n",
       "\n",
       "    .dataframe thead th {\n",
       "        text-align: right;\n",
       "    }\n",
       "</style>\n",
       "<table border=\"1\" class=\"dataframe\">\n",
       "  <thead>\n",
       "    <tr style=\"text-align: right;\">\n",
       "      <th></th>\n",
       "      <th>N</th>\n",
       "      <th>Simple Iterations</th>\n",
       "      <th>Stochastic Iterations</th>\n",
       "      <th>Steepest Iterations</th>\n",
       "      <th>Simple Time</th>\n",
       "      <th>Stochastic Time</th>\n",
       "      <th>Steepest Time</th>\n",
       "      <th>Simple Failed</th>\n",
       "      <th>Stochastic Failed</th>\n",
       "      <th>Steepest Failed</th>\n",
       "    </tr>\n",
       "  </thead>\n",
       "  <tbody>\n",
       "    <tr>\n",
       "      <th>0</th>\n",
       "      <td>4</td>\n",
       "      <td>1</td>\n",
       "      <td>1</td>\n",
       "      <td>1</td>\n",
       "      <td>0.000000</td>\n",
       "      <td>0.000000</td>\n",
       "      <td>0.000000</td>\n",
       "      <td>False</td>\n",
       "      <td>False</td>\n",
       "      <td>False</td>\n",
       "    </tr>\n",
       "    <tr>\n",
       "      <th>1</th>\n",
       "      <td>8</td>\n",
       "      <td>2</td>\n",
       "      <td>4</td>\n",
       "      <td>3</td>\n",
       "      <td>0.001182</td>\n",
       "      <td>0.001288</td>\n",
       "      <td>0.000000</td>\n",
       "      <td>False</td>\n",
       "      <td>False</td>\n",
       "      <td>False</td>\n",
       "    </tr>\n",
       "    <tr>\n",
       "      <th>2</th>\n",
       "      <td>16</td>\n",
       "      <td>9</td>\n",
       "      <td>7</td>\n",
       "      <td>6</td>\n",
       "      <td>0.033982</td>\n",
       "      <td>0.032406</td>\n",
       "      <td>0.015682</td>\n",
       "      <td>False</td>\n",
       "      <td>False</td>\n",
       "      <td>False</td>\n",
       "    </tr>\n",
       "    <tr>\n",
       "      <th>3</th>\n",
       "      <td>32</td>\n",
       "      <td>13</td>\n",
       "      <td>19</td>\n",
       "      <td>13</td>\n",
       "      <td>0.515961</td>\n",
       "      <td>1.547228</td>\n",
       "      <td>0.538912</td>\n",
       "      <td>False</td>\n",
       "      <td>False</td>\n",
       "      <td>False</td>\n",
       "    </tr>\n",
       "    <tr>\n",
       "      <th>4</th>\n",
       "      <td>64</td>\n",
       "      <td>21</td>\n",
       "      <td>41</td>\n",
       "      <td>24</td>\n",
       "      <td>13.254012</td>\n",
       "      <td>50.342453</td>\n",
       "      <td>15.045349</td>\n",
       "      <td>False</td>\n",
       "      <td>False</td>\n",
       "      <td>False</td>\n",
       "    </tr>\n",
       "  </tbody>\n",
       "</table>\n",
       "</div>"
      ],
      "text/plain": [
       "    N  Simple Iterations  Stochastic Iterations  Steepest Iterations  \\\n",
       "0   4                  1                      1                    1   \n",
       "1   8                  2                      4                    3   \n",
       "2  16                  9                      7                    6   \n",
       "3  32                 13                     19                   13   \n",
       "4  64                 21                     41                   24   \n",
       "\n",
       "   Simple Time  Stochastic Time  Steepest Time  Simple Failed  \\\n",
       "0     0.000000         0.000000       0.000000          False   \n",
       "1     0.001182         0.001288       0.000000          False   \n",
       "2     0.033982         0.032406       0.015682          False   \n",
       "3     0.515961         1.547228       0.538912          False   \n",
       "4    13.254012        50.342453      15.045349          False   \n",
       "\n",
       "   Stochastic Failed  Steepest Failed  \n",
       "0              False            False  \n",
       "1              False            False  \n",
       "2              False            False  \n",
       "3              False            False  \n",
       "4              False            False  "
      ]
     },
     "execution_count": 15,
     "metadata": {},
     "output_type": "execute_result"
    }
   ],
   "source": [
    "df"
   ]
  },
  {
   "cell_type": "markdown",
   "id": "cc5dc7e0",
   "metadata": {},
   "source": [
    "### 4. Analyze and Compare: \n",
    "    o Measure the number of restarts needed if a local optima is reached. \n",
    "    o Compare success rates, execution times, and efficiency of each algorithm."
   ]
  },
  {
   "cell_type": "code",
   "execution_count": 13,
   "id": "3b1ed4d6",
   "metadata": {},
   "outputs": [
    {
     "data": {
      "image/png": "[encoded data removed]",
      "text/plain": [
       "<Figure size 504x216 with 1 Axes>"
      ]
     },
     "metadata": {
      "needs_background": "light"
     },
     "output_type": "display_data"
    },
    {
     "data": {
      "image/png": "[encoded data removed]",
      "text/plain": [
       "<Figure size 504x216 with 1 Axes>"
      ]
     },
     "metadata": {
      "needs_background": "light"
     },
     "output_type": "display_data"
    }
   ],
   "source": [
    "df['Success Rate (Simple)'] = df['Simple Failed'].apply(lambda x: 0 if x else 1)\n",
    "df['Success Rate (Stochastic)'] = df['Stochastic Failed'].apply(lambda x: 0 if x else 1)\n",
    "df['Success Rate (Steepest)'] = df['Steepest Failed'].apply(lambda x: 0 if x else 1)\n",
    "\n",
    "df['Simple Efficiency'] = df['Simple Time'] / df['Simple Iterations']\n",
    "df['Stochastic Efficiency'] = df['Stochastic Time'] / df['Stochastic Iterations']\n",
    "df['Steepest Efficiency'] = df['Steepest Time'] / df['Steepest Iterations']\n",
    "\n",
    "plt.figure(figsize=(7, 3))\n",
    "plt.plot(df['N'], df['Simple Iterations'], label='Simple', marker='o')\n",
    "plt.plot(df['N'], df['Stochastic Iterations'], label='Stochastic', marker='s')\n",
    "plt.plot(df['N'], df['Steepest Iterations'], label='Steepest', marker='^')\n",
    "plt.xlabel('N (Board Size)')\n",
    "plt.ylabel('Iterations')\n",
    "plt.title('Iterations vs N for Different Algorithms')\n",
    "plt.legend()\n",
    "plt.grid(True)\n",
    "plt.show()\n",
    "\n",
    "plt.figure(figsize=(7, 3))\n",
    "plt.plot(df['N'], df['Simple Efficiency'], label='Simple', marker='o')\n",
    "plt.plot(df['N'], df['Stochastic Efficiency'], label='Stochastic', marker='s')\n",
    "plt.plot(df['N'], df['Steepest Efficiency'], label='Steepest', marker='^')\n",
    "plt.xlabel('N (Board Size)')\n",
    "plt.ylabel('Time per Iteration (Efficiency)')\n",
    "plt.title('Efficiency vs N for Different Algorithms')\n",
    "plt.legend()\n",
    "plt.grid(True)\n",
    "plt.show()"
   ]
  },
  {
   "cell_type": "markdown",
   "id": "81524520",
   "metadata": {},
   "source": [
    "### Remarks "
   ]
  },
  {
   "cell_type": "markdown",
   "id": "429ac7ac",
   "metadata": {},
   "source": [
    "#### 1. Simple Hill Climbing:\n",
    "\n",
    "    Performance: Works well for smaller N (e.g., N=4), solving the problem in few iterations. However, as N increases, it struggles with local optima and requires more iterations.\n",
    "    Execution Time: Increases as N grows, from a few milliseconds (N=8) to over 13 seconds (N=64).\n",
    "    Failures: Did not fail in this experiment, but becomes less effective with larger N due to local optima.\n",
    "    \n",
    "\n",
    "#### 2. Stochastic Hill Climbing:\n",
    "\n",
    "    Performance: Similar to Simple Hill Climbing, but with some randomness in moves. It performed well for smaller N, but failed at N=8.\n",
    "    Execution Time: Slightly higher than Simple Hill Climbing, especially for larger N.\n",
    "    Failures: Failed at N=8, showing that random moves don't always avoid local optima effectively.\n",
    "    \n",
    "    \n",
    "#### 3. Steepest Ascent Hill Climbing:\n",
    "\n",
    "    Performance: The most reliable overall, especially for larger N. Evaluates all possible moves and avoids local optima more effectively, though it requires more iterations than the others.\n",
    "    Execution Time: Takes significantly more time (up to 50 seconds for N=64) due to evaluating all potential moves.\n",
    "    Failures: Did not fail at any point, performing well even for large N."
   ]
  },
  {
   "cell_type": "code",
   "execution_count": null,
   "id": "7ea42804",
   "metadata": {},
   "outputs": [],
   "source": []
  }
 ],
 "metadata": {
  "kernelspec": {
   "display_name": "Python 3 (ipykernel)",
   "language": "python",
   "name": "python3"
  },
  "language_info": {
   "codemirror_mode": {
    "name": "ipython",
    "version": 3
   },
   "file_extension": ".py",
   "mimetype": "text/x-python",
   "name": "python",
   "nbconvert_exporter": "python",
   "pygments_lexer": "ipython3",
   "version": "3.12.1"
  }
 },
 "nbformat": 4,
 "nbformat_minor": 5
}
