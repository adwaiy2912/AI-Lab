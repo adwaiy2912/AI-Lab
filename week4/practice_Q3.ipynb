{
 "cells": [
  {
   "cell_type": "code",
   "execution_count": 1,
   "id": "53de400a-8cff-4c19-9b56-bcd3a4ec831d",
   "metadata": {},
   "outputs": [],
   "source": [
    "import numpy as np\n",
    "from itertools import combinations\n",
    "import random "
   ]
  },
  {
   "cell_type": "code",
   "execution_count": 2,
   "id": "deef909f-d284-415c-8cd0-6133eed526ba",
   "metadata": {},
   "outputs": [],
   "source": [
    "def gen_board(N):\n",
    "    board = np.identity(N, dtype=\"int\").flatten()\n",
    "    np.random.shuffle(board)\n",
    "    return board.reshape(N,N)"
   ]
  },
  {
   "cell_type": "code",
   "execution_count": 3,
   "id": "e4c18ede-2b71-4970-911e-7ab3b0a6c57d",
   "metadata": {},
   "outputs": [],
   "source": [
    "board = gen_board(4)"
   ]
  },
  {
   "cell_type": "code",
   "execution_count": 4,
   "id": "a352742d-c84a-4508-9180-5a28c0ee4af1",
   "metadata": {},
   "outputs": [
    {
     "name": "stdout",
     "output_type": "stream",
     "text": [
      "[[0 1 1 0]\n",
      " [0 0 1 0]\n",
      " [0 0 0 0]\n",
      " [0 0 0 1]]\n"
     ]
    }
   ],
   "source": [
    "print(board)"
   ]
  },
  {
   "cell_type": "code",
   "execution_count": 5,
   "id": "c3343d1a-c71c-461f-9f90-32700ea4086c",
   "metadata": {},
   "outputs": [],
   "source": [
    "def check_conflict(i1, j1, i2, j2, N):\n",
    "    if i1 == i2 or j1 == j2:\n",
    "        return 1\n",
    "\n",
    "    for num in range(N):\n",
    "        if i1 - num == i2 and j1 - num == j2:\n",
    "            return 1\n",
    "        if i1 + num == i2 and j1 + num == j2:\n",
    "            return 1\n",
    "        if i1 + num == i2 and j1 - num == j2:\n",
    "            return 1\n",
    "        if i1 - num == i2 and j1 + num == j2:\n",
    "            return 1\n",
    "    return 0"
   ]
  },
  {
   "cell_type": "code",
   "execution_count": 6,
   "id": "6407ef6b-8d62-401e-a5d6-2835aad97b88",
   "metadata": {},
   "outputs": [],
   "source": [
    "def calc_conflicts(board: np.ndarray):\n",
    "    conflicts = 0\n",
    "    queens = np.argwhere(board == 1)\n",
    "    N = len(queens)\n",
    "\n",
    "    for idx1, (i1, j1) in enumerate(queens):\n",
    "        for idx2, (i2, j2) in enumerate(queens):\n",
    "            if idx1 >= idx2:\n",
    "                continue\n",
    "            conflicts += check_conflict(i1, j1, i2, j2, N)\n",
    "    return conflicts"
   ]
  },
  {
   "cell_type": "code",
   "execution_count": 7,
   "id": "3e2b9aae-50f4-4353-8707-d607f6a1fcc7",
   "metadata": {},
   "outputs": [
    {
     "data": {
      "text/plain": [
       "3"
      ]
     },
     "execution_count": 7,
     "metadata": {},
     "output_type": "execute_result"
    }
   ],
   "source": [
    "calc_conflicts(board)"
   ]
  },
  {
   "cell_type": "code",
   "execution_count": 8,
   "id": "4112d7d5-1a2c-4b04-a2b0-6b99aaf5b022",
   "metadata": {},
   "outputs": [],
   "source": [
    "def gen_neighbors (board, n = 50):\n",
    "    neighbour = [board]\n",
    "    while len(neighbour) < n:\n",
    "            neigh = board.copy()\n",
    "            \n",
    "            neigh_queens = list(map(tuple, np.argwhere(neigh == 1)))\n",
    "            neigh_board = list(map(tuple, np.argwhere(neigh == 0)))\n",
    "\n",
    "            queen = random.choice(neigh_queens)\n",
    "            space = random.choice(neigh_board)\n",
    "\n",
    "            neigh[queen] = 0\n",
    "            neigh[space] = 1\n",
    "\n",
    "            neighbour.append(neigh)\n",
    "    return neighbour"
   ]
  },
  {
   "cell_type": "code",
   "execution_count": 9,
   "id": "7836da1d-2bb8-4d4a-b96c-100615b7eac0",
   "metadata": {},
   "outputs": [],
   "source": [
    "def simple_NQueens(max_iter = 100):\n",
    "    board = gen_board(8)\n",
    "    iter = 0\n",
    "\n",
    "    while calc_conflicts(board) > 0 and iter < max_iter:\n",
    "        iter += 1\n",
    "        neighbours = gen_neighbors(board)\n",
    "        flag = True\n",
    "\n",
    "        for neigh in neighbours: \n",
    "            if calc_conflicts(neigh) < calc_conflicts(board):\n",
    "                board = neigh.copy()\n",
    "                flag = False\n",
    "                break\n",
    "        else:\n",
    "            break\n",
    "            \n",
    "    print(f\"Iter stopped at {iter}\")        \n",
    "    print(f\"Coflicts of board: {calc_conflicts(board)}\")\n",
    "    print(board)"
   ]
  },
  {
   "cell_type": "code",
   "execution_count": 10,
   "id": "aed3b413-6243-4b52-8187-a7a85f615784",
   "metadata": {},
   "outputs": [
    {
     "name": "stdout",
     "output_type": "stream",
     "text": [
      "Iter stopped at 8\n",
      "Coflicts of board: 4\n",
      "[[0 0 0 0 1 0 0 1]\n",
      " [0 0 0 0 0 0 0 0]\n",
      " [0 0 0 1 0 0 0 0]\n",
      " [1 0 0 0 0 0 0 0]\n",
      " [0 0 1 0 0 0 0 0]\n",
      " [0 0 0 0 0 1 0 0]\n",
      " [1 0 0 0 0 0 0 0]\n",
      " [0 0 1 0 0 0 0 0]]\n"
     ]
    }
   ],
   "source": [
    "simple_NQueens()"
   ]
  },
  {
   "cell_type": "code",
   "execution_count": 11,
   "id": "3ebff802-aac9-4722-91a9-fa65c4262d0f",
   "metadata": {},
   "outputs": [],
   "source": [
    "def stochastic_NQueens(max_iter = 100):\n",
    "    board = gen_board(8)\n",
    "    iter = 0\n",
    "\n",
    "    while calc_conflicts(board) > 0 and iter < max_iter:\n",
    "        iter += 1\n",
    "        neighbours = gen_neighbors(board)\n",
    "        better_neigh = []\n",
    "\n",
    "        for neigh in neighbours: \n",
    "            if calc_conflicts(neigh) <= calc_conflicts(board):\n",
    "                better_neigh.append(neigh)\n",
    "\n",
    "        if not better_neigh:\n",
    "            break\n",
    "            \n",
    "        board = random.choice(better_neigh)\n",
    "    \n",
    "    print(f\"Iter stopped at {iter}\")        \n",
    "    print(f\"Coflicts of board: {calc_conflicts(board)}\")\n",
    "    print(board)"
   ]
  },
  {
   "cell_type": "code",
   "execution_count": 12,
   "id": "8fe8ea87-987f-4309-9a41-f0cf335b0cc8",
   "metadata": {},
   "outputs": [
    {
     "name": "stdout",
     "output_type": "stream",
     "text": [
      "Iter stopped at 100\n",
      "Coflicts of board: 1\n",
      "[[0 0 0 0 0 0 0 0]\n",
      " [0 0 0 1 0 0 0 0]\n",
      " [0 1 0 0 0 0 0 0]\n",
      " [0 0 0 0 0 0 1 0]\n",
      " [0 0 1 0 0 0 0 0]\n",
      " [0 0 0 0 0 1 0 0]\n",
      " [0 0 0 0 0 0 0 1]\n",
      " [1 0 0 0 1 0 0 0]]\n"
     ]
    }
   ],
   "source": [
    "stochastic_NQueens()"
   ]
  },
  {
   "cell_type": "code",
   "execution_count": 13,
   "id": "f63e3506-27aa-4679-b8f6-988cabd8a3b4",
   "metadata": {},
   "outputs": [],
   "source": [
    "def steepest_NQueens(max_iter = 100):\n",
    "    board = gen_board(8)\n",
    "    iter = 0\n",
    "\n",
    "    while calc_conflicts(board) > 0 and iter < max_iter:\n",
    "        iter += 1\n",
    "        neighbours = gen_neighbors(board)\n",
    "        sol = board.copy()\n",
    "\n",
    "        for neigh in neighbours: \n",
    "            if calc_conflicts(neigh) <= calc_conflicts(board):\n",
    "                board = neigh.copy()\n",
    "\n",
    "        if (sol == board).all():\n",
    "            break\n",
    "\n",
    "    print(f\"Iter stopped at {iter}\")        \n",
    "    print(f\"Coflicts of board: {calc_conflicts(board)}\")\n",
    "    print(board)"
   ]
  },
  {
   "cell_type": "code",
   "execution_count": 14,
   "id": "b82da777-01ee-4ad8-801a-bc62bce754f4",
   "metadata": {},
   "outputs": [
    {
     "name": "stdout",
     "output_type": "stream",
     "text": [
      "Iter stopped at 11\n",
      "Coflicts of board: 1\n",
      "[[0 0 0 0 0 1 0 0]\n",
      " [0 1 0 0 0 0 0 0]\n",
      " [0 0 0 0 1 0 1 0]\n",
      " [1 0 0 0 0 0 0 0]\n",
      " [0 0 0 1 0 0 0 0]\n",
      " [0 0 0 0 0 0 0 0]\n",
      " [0 0 0 0 0 0 0 1]\n",
      " [0 0 1 0 0 0 0 0]]\n"
     ]
    }
   ],
   "source": [
    "steepest_NQueens()"
   ]
  },
  {
   "cell_type": "code",
   "execution_count": null,
   "id": "920a0028-06e6-4e4c-ac0f-f5b7c01dc68e",
   "metadata": {},
   "outputs": [],
   "source": []
  }
 ],
 "metadata": {
  "kernelspec": {
   "display_name": "Python 3 (ipykernel)",
   "language": "python",
   "name": "python3"
  },
  "language_info": {
   "codemirror_mode": {
    "name": "ipython",
    "version": 3
   },
   "file_extension": ".py",
   "mimetype": "text/x-python",
   "name": "python",
   "nbconvert_exporter": "python",
   "pygments_lexer": "ipython3",
   "version": "3.12.1"
  }
 },
 "nbformat": 4,
 "nbformat_minor": 5
}
