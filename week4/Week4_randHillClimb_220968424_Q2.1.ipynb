{
 "cells": [
  {
   "cell_type": "markdown",
   "id": "073dbf05",
   "metadata": {},
   "source": [
    "## Name : Adwaiy Singh\n",
    "## Reg. No. : 220968424\n",
    "## Sec. : A\n",
    "## Batch: 2\n",
    "## WEEK 4"
   ]
  },
  {
   "cell_type": "markdown",
   "id": "635485d7",
   "metadata": {},
   "source": [
    "# Question 2\n",
    "\n",
    "## EXPLORE ABOUT Random Restart Hill Climbing \n",
    "\n",
    "### Objective: This work aims to apply different Hill Climbing algorithms—simple Hill Climbing, Stochastic Hill Climbing, and Steepest Ascent Hill Climbing—to solve a Job Scheduling \n",
    "\n",
    "#### Optimization problem. The goal is to minimize the total processing time of jobs on multiple machines by efficiently assigning jobs to machines while respecting the constraints. \n",
    "\n",
    "#### Deliverables Required: \n",
    "    1. Python Implementation: \n",
    "        o A Python implementation of Simple Hill Climbing, Stochastic Hill Climbing, and Steepest Ascent Hill Climbing for solving the job scheduling problem. \n",
    "    o The implementation should include: \n",
    "        ▪ Generation of random initial schedules. \n",
    "        ▪ Calculation of the total processing time based on job assignments. \n",
    "        ▪ Performance comparison across different job sizes. \n",
    "        \n",
    "    2. Heuristic Function: \n",
    "        o An explanation of the heuristic function used to evaluate the quality of job schedules. \n",
    "    o The heuristic function should calculate the total processing time or cost for each schedule. \n",
    "    \n",
    "    3. Algorithm Comparison: \n",
    "    o A detailed comparison of the performance of the three algorithms: \n",
    "        ▪ Metrics to include: total processing time, execution time, and success rate (i.e., finding an optimal solution or near-optimal solution). \n",
    "    ▪ Comparison should be made across varying numbers of jobs (e.g., 10, 50, 100,200, 500). And number of machine (ex: 10, 100, 100,1000, 10000, 100000) \n",
    "    \n",
    "    4. Graphs and Results: \n",
    "        o Graphs or tables showing the performance of each algorithm in terms of total processing time and execution time for different job sets. \n",
    "    o A discussion of the strengths and weaknesses of each algorithm based on the results."
   ]
  },
  {
   "cell_type": "code",
   "execution_count": 1,
   "id": "59ca990f",
   "metadata": {},
   "outputs": [],
   "source": [
    "import numpy as np\n",
    "import random\n",
    "import time\n",
    "import matplotlib.pyplot as plt\n",
    "from collections import defaultdict\n"
   ]
  },
  {
   "cell_type": "code",
   "execution_count": 2,
   "id": "2bfb52d7",
   "metadata": {},
   "outputs": [],
   "source": [
    "class JobScheduling:\n",
    "    def __init__(self, num_jobs, num_machines):\n",
    "        self.num_jobs = num_jobs\n",
    "        self.num_machines = num_machines\n",
    "        self.jobs = list(range(num_jobs))\n",
    "        self.machines = [0] * num_machines  \n",
    "\n",
    "    def generate_random_schedule(self):\n",
    "        return [random.randint(0, self.num_machines - 1) for _ in range(self.num_jobs)]\n",
    "\n",
    "    def calculate_total_processing_time(self, schedule):\n",
    "        machine_loads = [0] * self.num_machines\n",
    "        for job in range(self.num_jobs):\n",
    "            machine_loads[schedule[job]] += random.randint(1, 10)  \n",
    "        return max(machine_loads)  \n"
   ]
  },
  {
   "cell_type": "code",
   "execution_count": 3,
   "id": "264a5c03",
   "metadata": {},
   "outputs": [],
   "source": [
    "class HillClimbing:\n",
    "    def __init__(self, job_scheduler):\n",
    "        self.job_scheduler = job_scheduler\n",
    "\n",
    "    def simple_hill_climbing(self, initial_schedule):\n",
    "        current_schedule = initial_schedule\n",
    "        current_cost = self.job_scheduler.calculate_total_processing_time(current_schedule)\n",
    "\n",
    "        while True:\n",
    "            neighbors = self.get_neighbors(current_schedule)\n",
    "            next_schedule = min(neighbors, key=self.job_scheduler.calculate_total_processing_time)\n",
    "            next_cost = self.job_scheduler.calculate_total_processing_time(next_schedule)\n",
    "\n",
    "            if next_cost >= current_cost: \n",
    "                break\n",
    "\n",
    "            current_schedule, current_cost = next_schedule, next_cost\n",
    "\n",
    "        return current_schedule, current_cost\n",
    "\n",
    "    def stochastic_hill_climbing(self, initial_schedule):\n",
    "        current_schedule = initial_schedule\n",
    "        current_cost = self.job_scheduler.calculate_total_processing_time(current_schedule)\n",
    "\n",
    "        while True:\n",
    "            neighbors = self.get_neighbors(current_schedule)\n",
    "            next_schedule = random.choice(neighbors)\n",
    "            next_cost = self.job_scheduler.calculate_total_processing_time(next_schedule)\n",
    "\n",
    "            if next_cost < current_cost:  \n",
    "                current_schedule, current_cost = next_schedule, next_cost\n",
    "            else:\n",
    "                break\n",
    "\n",
    "        return current_schedule, current_cost\n",
    "\n",
    "    def steepest_ascent_hill_climbing(self, initial_schedule):\n",
    "        current_schedule = initial_schedule\n",
    "        current_cost = self.job_scheduler.calculate_total_processing_time(current_schedule)\n",
    "\n",
    "        while True:\n",
    "            neighbors = self.get_neighbors(current_schedule)\n",
    "            next_schedule = min(neighbors, key=self.job_scheduler.calculate_total_processing_time)\n",
    "            next_cost = self.job_scheduler.calculate_total_processing_time(next_schedule)\n",
    "\n",
    "            if next_cost >= current_cost: \n",
    "                break\n",
    "\n",
    "            current_schedule, current_cost = next_schedule, next_cost\n",
    "\n",
    "        return current_schedule, current_cost\n",
    "\n",
    "    def get_neighbors(self, schedule):\n",
    "        neighbors = []\n",
    "        for i in range(len(schedule)):\n",
    "            for j in range(len(schedule)):\n",
    "                if i != j:\n",
    "                    neighbor = schedule.copy()\n",
    "                    neighbor[i], neighbor[j] = neighbor[j], neighbor[i] \n",
    "                    neighbors.append(neighbor)\n",
    "        return neighbors\n"
   ]
  },
  {
   "cell_type": "code",
   "execution_count": 4,
   "id": "6b630872",
   "metadata": {},
   "outputs": [
    {
     "data": {
      "image/png": "[encoded data removed]",
      "text/plain": [
       "<Figure size 720x360 with 1 Axes>"
      ]
     },
     "metadata": {
      "needs_background": "light"
     },
     "output_type": "display_data"
    },
    {
     "data": {
      "image/png": "[encoded data removed]",
      "text/plain": [
       "<Figure size 720x360 with 1 Axes>"
      ]
     },
     "metadata": {
      "needs_background": "light"
     },
     "output_type": "display_data"
    },
    {
     "data": {
      "image/png": "[encoded data removed]",
      "text/plain": [
       "<Figure size 720x360 with 1 Axes>"
      ]
     },
     "metadata": {
      "needs_background": "light"
     },
     "output_type": "display_data"
    }
   ],
   "source": [
    "def run_experiments(job_sizes, machine_sizes):\n",
    "    results = defaultdict(lambda: defaultdict(list))\n",
    "\n",
    "    for num_jobs in job_sizes:\n",
    "        for num_machines in machine_sizes:\n",
    "            job_scheduler = JobScheduling(num_jobs, num_machines)\n",
    "            initial_schedule = job_scheduler.generate_random_schedule()\n",
    "\n",
    "            algorithms = {\n",
    "                \"Simple Hill Climbing\": HillClimbing(job_scheduler).simple_hill_climbing,\n",
    "                \"Stochastic Hill Climbing\": HillClimbing(job_scheduler).stochastic_hill_climbing,\n",
    "                \"Steepest Ascent Hill Climbing\": HillClimbing(job_scheduler).steepest_ascent_hill_climbing,\n",
    "            }\n",
    "\n",
    "            for name, algorithm in algorithms.items():\n",
    "                start_time = time.time()\n",
    "                final_schedule, final_cost = algorithm(initial_schedule)\n",
    "                execution_time = time.time() - start_time\n",
    "                \n",
    "                results[num_jobs][name].append((final_cost, execution_time))\n",
    "\n",
    "    return results\n",
    "\n",
    "def plot_results(results):\n",
    "    for num_jobs, algorithms in results.items():\n",
    "        plt.figure(figsize=(10, 5))\n",
    "        \n",
    "        for name, data in algorithms.items():\n",
    "            costs, times = zip(*data)\n",
    "            avg_cost = np.mean(costs)\n",
    "            avg_time = np.mean(times)\n",
    "            \n",
    "            plt.bar(name, avg_cost)\n",
    "        \n",
    "        plt.title(f'Job Size: {num_jobs}')\n",
    "        plt.ylabel('Total Processing Time')\n",
    "        plt.show()\n",
    "\n",
    "job_sizes = [10, 50, 100]\n",
    "machine_sizes = [10, 100]\n",
    "\n",
    "results = run_experiments(job_sizes, machine_sizes)\n",
    "plot_results(results)\n"
   ]
  },
  {
   "cell_type": "code",
   "execution_count": null,
   "id": "ed2213b4",
   "metadata": {},
   "outputs": [],
   "source": []
  }
 ],
 "metadata": {
  "kernelspec": {
   "display_name": "Python 3 (ipykernel)",
   "language": "python",
   "name": "python3"
  },
  "language_info": {
   "codemirror_mode": {
    "name": "ipython",
    "version": 3
   },
   "file_extension": ".py",
   "mimetype": "text/x-python",
   "name": "python",
   "nbconvert_exporter": "python",
   "pygments_lexer": "ipython3",
   "version": "3.12.1"
  }
 },
 "nbformat": 4,
 "nbformat_minor": 5
}
